{
 "cells": [
  {
   "cell_type": "markdown",
   "metadata": {},
   "source": [
    "# 1　基本構成"
   ]
  },
  {
   "cell_type": "markdown",
   "metadata": {},
   "source": [
    "Python Flask 檔案通常會命名為 app.py"
   ]
  },
  {
   "cell_type": "code",
   "execution_count": null,
   "metadata": {},
   "outputs": [],
   "source": [
    "from flask import Flask  \n",
    "app = Flask(__name__) "
   ]
  },
  {
   "cell_type": "markdown",
   "metadata": {},
   "source": [
    "`flask` 小寫是 package、`Flask` 大寫是 Class\n",
    "\n",
    "之後創造一個名稱為 app 的 Flask Object，`__name__` 指定程式執行的位置"
   ]
  },
  {
   "cell_type": "code",
   "execution_count": null,
   "metadata": {},
   "outputs": [],
   "source": [
    "@app.route('/')\n",
    "def home():\n",
    "    return \"Hello World!\"\n",
    "\n",
    "app.run(port=5000, debug = True)"
   ]
  },
  {
   "cell_type": "markdown",
   "metadata": {},
   "source": [
    " 用 decorator `@app.route('/')` 來指定下方函式所對應的路徑(URI)\n",
    " \n",
    " 使用 `app.run()` 來執行 Flask 程式，並指定 port 為 5000\n",
    " \n",
    " `debug = True` 可開啟 Flask 偵錯工具，遇到錯誤會回傳相關 html 網頁\n",
    " \n",
    " / 指的是根目錄，且函式名稱(home)取什麼都可以\n",
    " \n",
    " 執行後，顯示的 IP位置 127.0.0.1 指的是本機"
   ]
  },
  {
   "cell_type": "markdown",
   "metadata": {},
   "source": [
    "***"
   ]
  },
  {
   "cell_type": "markdown",
   "metadata": {},
   "source": [
    "# 2　創造端點(endpoint)"
   ]
  },
  {
   "cell_type": "code",
   "execution_count": null,
   "metadata": {},
   "outputs": [],
   "source": [
    "@app.route('/store', method=['POST'])\n",
    "def create_store():\n",
    "    pass"
   ]
  },
  {
   "cell_type": "markdown",
   "metadata": {},
   "source": [
    "創造一個商店，使用者用 POST 方法送指令給伺服器\n",
    "\n",
    "若是要用多重方法，可以改為 `method = ['POST', 'GET']`"
   ]
  },
  {
   "cell_type": "code",
   "execution_count": null,
   "metadata": {},
   "outputs": [],
   "source": [
    "@app.route('/store/<string:name>')\n",
    "def get_store(name):\n",
    "    pass"
   ]
  },
  {
   "cell_type": "markdown",
   "metadata": {},
   "source": [
    "`<string:name>` 為任意字串被指派成 `name` 變數並丟入 `get_store` 函式當中"
   ]
  },
  {
   "cell_type": "code",
   "execution_count": null,
   "metadata": {},
   "outputs": [],
   "source": [
    "stores = [\n",
    "    {\n",
    "        'name': 'My Store',\n",
    "        'items': [\n",
    "            {'name':'my item', \n",
    "             'price': 199\n",
    "            }\n",
    "        ]\n",
    "    }\n",
    "]"
   ]
  },
  {
   "cell_type": "markdown",
   "metadata": {},
   "source": [
    "可以宣告一個變數來儲存商店資料\n",
    "\n",
    "`store` 是一個 list，包含許多格式為 dict 的商店\n",
    "\n",
    "而每個商店 dict 當中的商品項目也是一個 list，包含許多格式為 dict 的單一商品"
   ]
  },
  {
   "cell_type": "markdown",
   "metadata": {},
   "source": [
    "***"
   ]
  },
  {
   "cell_type": "markdown",
   "metadata": {},
   "source": [
    "# 3　實作端點功能"
   ]
  },
  {
   "cell_type": "code",
   "execution_count": null,
   "metadata": {},
   "outputs": [],
   "source": [
    "from flask import Flask, jsonify"
   ]
  },
  {
   "cell_type": "markdown",
   "metadata": {},
   "source": [
    "JSON 格式跟 Python 的 dict 很類似，但本質為跨平台傳輸的純文字格式\n",
    "\n",
    "亦即需要將 Python 的 dict 轉換成 JSON 格式，此處引入 `jsonify` 以達成此目的\n",
    "\n",
    "須注意 JSON 格式只支援雙引號　\"　而不能使用單引號　'\n",
    "\n",
    "不過 `jsonify` 會自動處理此問題"
   ]
  },
  {
   "cell_type": "code",
   "execution_count": null,
   "metadata": {},
   "outputs": [],
   "source": [
    "@app.route('/store')\n",
    "def get_stores():\n",
    "    \n",
    "    return jsonify({'stores': stores})"
   ]
  },
  {
   "cell_type": "markdown",
   "metadata": {},
   "source": [
    "`jsonify` 必須要傳入 dict 格式資料，所以不能直接寫 `jsonify(stores)`"
   ]
  },
  {
   "cell_type": "code",
   "execution_count": null,
   "metadata": {},
   "outputs": [],
   "source": [
    "from flask import Flask, jsonify, request\n",
    "\n",
    "@app.route('/store' , methods=['POST'])\n",
    "def create_store():\n",
    "    \n",
    "    request_data = request.get_json()\n",
    "\n",
    "    new_store = {\n",
    "    'name':request_data['name'],\n",
    "    'items':[]\n",
    "    }\n",
    "\n",
    "    stores.append(new_store)\n",
    "    return jsonify(new_store)"
   ]
  },
  {
   "cell_type": "markdown",
   "metadata": {},
   "source": [
    "`request_data = request.get_json()` 即取用用戶傳來的 JSON 資料\n",
    "\n",
    "`get_json()` 的變形：\n",
    "- `get_json(force = True)` 不論 header 為何都進行處理\n",
    "- `get_json(silent = True)` 遇到錯誤不進行回報\n",
    "\n",
    "\n",
    "取得之後，將該 JSON 資料中標籤為 `name` 的字串取用為新商店的 `name`，預設商品內容為空\n",
    "\n",
    "最後再將此新創的 dict 格式商店附加在原 `stores` list 後方"
   ]
  },
  {
   "cell_type": "code",
   "execution_count": null,
   "metadata": {},
   "outputs": [],
   "source": [
    "@app.route('/store/<string:name>')\n",
    "def get_store(name):\n",
    "    \n",
    "    for store in stores:\n",
    "    if store['name'] == name:\n",
    "          return jsonify(store)\n",
    "\n",
    "    return jsonify({'message': 'store not found'})"
   ]
  },
  {
   "cell_type": "markdown",
   "metadata": {},
   "source": [
    "註：`stores` 是格式為 list 的商店清單，而 `store` 是格式為 dict 的單一商店\n",
    "\n",
    "在函式當中，先觸發第一個 `return` 就不會執行下面的程式碼了，故可以如上述寫"
   ]
  },
  {
   "cell_type": "code",
   "execution_count": null,
   "metadata": {},
   "outputs": [],
   "source": [
    "@app.route('/store/<string:name>/item' , methods=['POST'])\n",
    "def create_item_in_store(name):\n",
    "\n",
    "    request_data = request.get_json()\n",
    "\n",
    "    for store in stores:\n",
    "        if store['name'] == name:\n",
    "            new_item = {\n",
    "                'name': request_data['name'],\n",
    "                'price': request_data['price']\n",
    "            }\n",
    "\n",
    "            store['items'].append(new_item)\n",
    "            return jsonify(new_item)\n",
    "\n",
    "    return jsonify ({'message' :'store not found'})"
   ]
  },
  {
   "cell_type": "markdown",
   "metadata": {},
   "source": [
    "創造物品與創造商店類似"
   ]
  },
  {
   "cell_type": "markdown",
   "metadata": {},
   "source": [
    "***"
   ]
  },
  {
   "cell_type": "markdown",
   "metadata": {},
   "source": [
    "# 4　結合 JavaScript"
   ]
  },
  {
   "cell_type": "markdown",
   "metadata": {},
   "source": [
    "引入 `render_template`\n",
    "\n",
    "並創建 template 資料夾，將 html 等檔案放入，Flask 會自動尋找及讀取"
   ]
  },
  {
   "cell_type": "code",
   "execution_count": null,
   "metadata": {},
   "outputs": [],
   "source": [
    "from flask import Flask, jsonify, request, render_template\n",
    "\n",
    "@app.route('/')\n",
    "def home():\n",
    "    return render_template('index.html')"
   ]
  },
  {
   "cell_type": "markdown",
   "metadata": {},
   "source": [
    "如此用戶在存取根目錄時，會自動顯示 index.html 的內容"
   ]
  }
 ],
 "metadata": {
  "kernelspec": {
   "display_name": "Python 3",
   "language": "python",
   "name": "python3"
  },
  "language_info": {
   "codemirror_mode": {
    "name": "ipython",
    "version": 3
   },
   "file_extension": ".py",
   "mimetype": "text/x-python",
   "name": "python",
   "nbconvert_exporter": "python",
   "pygments_lexer": "ipython3",
   "version": "3.6.4"
  }
 },
 "nbformat": 4,
 "nbformat_minor": 2
}
