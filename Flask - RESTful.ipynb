{
 "cells": [
  {
   "cell_type": "markdown",
   "metadata": {},
   "source": [
    "# 1　基本構成"
   ]
  },
  {
   "cell_type": "code",
   "execution_count": null,
   "metadata": {},
   "outputs": [],
   "source": [
    "from flask import Flask\n",
    "from flask_restful import Resource, Api"
   ]
  },
  {
   "cell_type": "markdown",
   "metadata": {},
   "source": [
    "`Resource` 用來處理 API 使用到的物件"
   ]
  },
  {
   "cell_type": "code",
   "execution_count": null,
   "metadata": {},
   "outputs": [],
   "source": [
    "app = Flask(__name__)\n",
    "api = Api(app)"
   ]
  },
  {
   "cell_type": "markdown",
   "metadata": {},
   "source": [
    "創建一個 `Api` 物件並引入原先的 `Flask` 物件 "
   ]
  },
  {
   "cell_type": "code",
   "execution_count": null,
   "metadata": {},
   "outputs": [],
   "source": [
    "class Student(Resource):\n",
    "    def get(self, name):\n",
    "        return {'student': name}"
   ]
  },
  {
   "cell_type": "markdown",
   "metadata": {},
   "source": [
    "`Student` 類別會繼承(inheritance) `Resource` 類別\n",
    "\n",
    "\n",
    "函式名稱直接命名為 HTTP 方法 get"
   ]
  },
  {
   "cell_type": "code",
   "execution_count": null,
   "metadata": {},
   "outputs": [],
   "source": [
    "api.add_resource(Student, '/student/<string:name>')\n",
    "\n",
    "app.run(port=5000)"
   ]
  },
  {
   "cell_type": "markdown",
   "metadata": {},
   "source": [
    "將 resource 加入 API 當中，並指定 `Student` 類別及 endpoint 路徑\n",
    "\n",
    "如此可在 Postman 當中以 GET http://127.0.0.1:5000/student/Rolf 存取\n",
    "\n",
    "會回傳 `{\"student\": \"Rolf\"}`\n",
    "\n",
    "註：使用 Flask-RESRTful 會自動轉換成 JSON，不用再使用 `jsonify`"
   ]
  },
  {
   "cell_type": "markdown",
   "metadata": {},
   "source": [
    "***"
   ]
  },
  {
   "cell_type": "markdown",
   "metadata": {},
   "source": [
    "# 2-1　商店 API 實作例 - GET、POST"
   ]
  },
  {
   "cell_type": "code",
   "execution_count": null,
   "metadata": {},
   "outputs": [],
   "source": [
    "class Item(Resource):\n",
    "    def get(self, name):\n",
    "        item = next(filter(lambda x:x['name'] == name, items), None)\n",
    "        return {'item': item}, 200 if item else 404"
   ]
  },
  {
   "cell_type": "markdown",
   "metadata": {},
   "source": [
    "其中 `filter(lambda x: x['name'] == name, items)` 的意思同下列程式碼："
   ]
  },
  {
   "cell_type": "code",
   "execution_count": null,
   "metadata": {},
   "outputs": [],
   "source": [
    "for item in items:\n",
    "    if item['name'] == name:\n",
    "        return item"
   ]
  },
  {
   "cell_type": "markdown",
   "metadata": {},
   "source": [
    "`lambda` 函式的功能是 x 輸入後將 `x['name'] == name` 的真偽值輸出\n",
    "\n",
    "`filter` 函式的功能是將 `items` 此商品 list 中的元素丟入指定函式中，若結果為真則保留\n",
    "\n",
    "如此，滿足 `item['name'] == name` 的元素(此處為單一商品 dict)會被保留下來\n",
    "\n",
    "`next` 函式的作用為尋找下一個元素，若無則輸出預設值 `None`\n",
    "\n",
    "亦可使用 `list(filter())` 來回傳所有過濾後的元素列表"
   ]
  },
  {
   "cell_type": "markdown",
   "metadata": {},
   "source": [
    "而在 return 後面的 200 為 HTTP 狀態碼，常見的有：\n",
    "- 200 OK (最常見)\n",
    "- 201 CREATED\n",
    "- 202 ACCPETED\n",
    "- 400 BAD REQUEST\n",
    "- 401 UNAUTHORIZED\n",
    "- 403 FORBIDDEN\n",
    "- 404 NOT FOUND\n",
    "- 500 INTERNAL SERVER ERROR\n",
    "\n",
    "\n",
    "其中 400 系列為使用者造成的錯誤、500 系列為伺服器本身的錯誤"
   ]
  },
  {
   "cell_type": "code",
   "execution_count": null,
   "metadata": {},
   "outputs": [],
   "source": [
    "    def post(self, name):\n",
    "        data = request.get_json()\n",
    "        if next(filter(lambda x: x['name'] == name, items), None) is not None:\n",
    "            return {'message': \"An item with name '{}' already exists.\"\\\n",
    "                    .format(name)}, 400\n",
    "\n",
    "        item = {'name': name, 'price': data['price']}\n",
    "        items.append(item)\n",
    "        return item"
   ]
  },
  {
   "cell_type": "markdown",
   "metadata": {},
   "source": [
    "註： `is not None` 可以直接省略"
   ]
  },
  {
   "cell_type": "markdown",
   "metadata": {},
   "source": [
    "# 2-2　商店 API 實作例 - DELETE、PUT"
   ]
  },
  {
   "cell_type": "code",
   "execution_count": null,
   "metadata": {},
   "outputs": [],
   "source": [
    "    def delete(self, name):\n",
    "        global items\n",
    "        items = list(filter(lambda x: x['name'] != name, items))\n",
    "        return {'message': 'Item deleted'}"
   ]
  },
  {
   "cell_type": "markdown",
   "metadata": {},
   "source": [
    "用 `filter` 函式將 `items` 過濾，只留下指定名稱之外的物件，達成刪除\n",
    "\n",
    "如果不加 `global items` 指定使用全域的 `items`\n",
    "\n",
    "Python 會認為使用的是 `delete` 函式中的 `items`\n",
    "\n",
    "兩個 `items` 在同一行，會造成未定義就先使用的情況，產生錯誤"
   ]
  },
  {
   "cell_type": "code",
   "execution_count": null,
   "metadata": {},
   "outputs": [],
   "source": [
    "    def put(self, name):\n",
    "        data = request.get_json()\n",
    "        item = next(filter(lambda x: x['name'] == name, items), None)\n",
    "        if item is None:\n",
    "            item = {'name': name, 'price': data['price']}\n",
    "            items.append(item)\n",
    "        else:\n",
    "            item.update(data)\n",
    "        return item"
   ]
  },
  {
   "cell_type": "markdown",
   "metadata": {},
   "source": [
    "dict 有 `.update(data)` 函式可使用\n",
    "\n",
    "註：PUT 具有冪等 (idempotent) 特性，意指無論執行幾次，最後都會得到相同結果\n",
    "\n",
    "重複執行 PUT 指令不會額外創造出多個物件，但 POST 則有可能"
   ]
  },
  {
   "cell_type": "markdown",
   "metadata": {},
   "source": [
    "***"
   ]
  },
  {
   "cell_type": "markdown",
   "metadata": {},
   "source": [
    "# 3-1　驗證功能 - 設定"
   ]
  },
  {
   "cell_type": "code",
   "execution_count": null,
   "metadata": {},
   "outputs": [],
   "source": [
    "from flask_jwt import JWT, jwt_required, current_identity\n",
    "\n",
    "app = Flask(__name__)\n",
    "app.secret_key = 'wolf'\n",
    "api = Api(app)"
   ]
  },
  {
   "cell_type": "markdown",
   "metadata": {},
   "source": [
    "JWT 代表 JSON Web Token\n",
    "\n",
    "須設定 `secret_key` 以供 `Flask_jwt` 進行加密\n",
    "\n",
    "為了執行驗證功能，需要另外兩個檔案：user.py 及 security.py"
   ]
  },
  {
   "cell_type": "markdown",
   "metadata": {},
   "source": [
    "- user.py"
   ]
  },
  {
   "cell_type": "code",
   "execution_count": null,
   "metadata": {},
   "outputs": [],
   "source": [
    "class User:\n",
    "    def __init__(self, _id, username, password):\n",
    "        self.id = _id\n",
    "        self.username = username\n",
    "        self.password = password"
   ]
  },
  {
   "cell_type": "markdown",
   "metadata": {},
   "source": [
    "id 是 python keyword，故使用 `_id`"
   ]
  },
  {
   "cell_type": "markdown",
   "metadata": {},
   "source": [
    "- security.py"
   ]
  },
  {
   "cell_type": "code",
   "execution_count": null,
   "metadata": {},
   "outputs": [],
   "source": [
    "from user import User\n",
    "\n",
    "users = [\n",
    "    User(1, 'Starlord', 'infinitygauntlet')\n",
    "]\n",
    "\n",
    "username_mapping = {u.username: u for u in users}\n",
    "userid_mapping = {u.id: u for u in users}\n"
   ]
  },
  {
   "cell_type": "markdown",
   "metadata": {},
   "source": [
    "`{u.username: u for u in users}` 是 dict comprehension\n",
    "\n",
    "如上 `username_mapping` 的值會是 `{'bob': User(1, 'bob', 'asdf')}` 、格式為 dict\n",
    "\n"
   ]
  },
  {
   "cell_type": "code",
   "execution_count": null,
   "metadata": {},
   "outputs": [],
   "source": [
    "def authenticate(username, password):\n",
    "    user = username_mapping.get(username, None)\n",
    "    if user and user.password == password:\n",
    "        return user\n",
    "\n",
    "def identity(payload):\n",
    "    user_id = payload['identity']\n",
    "    return userid_mapping.get(user_id, None)"
   ]
  },
  {
   "cell_type": "markdown",
   "metadata": {},
   "source": [
    "security.py 需要包含 `authenticate` 及 `identity` 兩個函式\n",
    "\n",
    "在這兩個函式中會使用 `dict.get(key, default)` \n",
    "\n",
    "以 `username` 及 `user_id` 作為鍵值 (key) 對上述兩個 mapping dict 進行搜尋\n",
    "\n",
    "不直接使用 `['key']` 而使用 `.get()` 的原因是可以指定 找不到時 的預設回傳值"
   ]
  },
  {
   "cell_type": "markdown",
   "metadata": {},
   "source": [
    "註：若使用 Python 2.7 或更早版本，不建議直接比對字串，建議使用如下方法："
   ]
  },
  {
   "cell_type": "code",
   "execution_count": null,
   "metadata": {},
   "outputs": [],
   "source": [
    "from werkzeung.security import safe_str_cmp\n",
    "\n",
    "if user and safe_str_cmp(user.password, password):\n",
    "    pass"
   ]
  },
  {
   "cell_type": "markdown",
   "metadata": {},
   "source": [
    "# 3-2　驗證功能 - 實作"
   ]
  },
  {
   "cell_type": "code",
   "execution_count": null,
   "metadata": {},
   "outputs": [],
   "source": [
    "from security import authenticate, identity\n",
    "from flask_jwt import JWT, jwt_required, current_identity\n",
    "\n",
    "jwt = JWT(app, authenticate, identity)"
   ]
  },
  {
   "cell_type": "markdown",
   "metadata": {},
   "source": [
    "`jwt_required` 用以加入驗證用 decorator 到函式上\n",
    "\n",
    "`JWT()` 會創造路徑為 /auth 的 endpoint"
   ]
  },
  {
   "cell_type": "code",
   "execution_count": null,
   "metadata": {},
   "outputs": [],
   "source": [
    "@jwt_required()\n",
    "    def get(self, name):\n",
    "        pass"
   ]
  },
  {
   "cell_type": "markdown",
   "metadata": {},
   "source": [
    "在函式上加入 `@jwt_required()` decorator 可讓此函式加上驗證保護"
   ]
  },
  {
   "cell_type": "markdown",
   "metadata": {},
   "source": [
    "***"
   ]
  },
  {
   "cell_type": "markdown",
   "metadata": {},
   "source": [
    "# 4　輸入資料修剪 (Parse)"
   ]
  },
  {
   "cell_type": "code",
   "execution_count": null,
   "metadata": {},
   "outputs": [],
   "source": [
    "from flask_restful import Resource, Api, reqparse\n",
    "\n",
    "def put(self, name):\n",
    "    parser = reqparse.RequestParser()\n",
    "    parser.add_argument('price',\n",
    "        type=float,\n",
    "        required=True,\n",
    "        help=\"This field cannot be left blank!\"\n",
    "    )\n",
    "    data = parser.parse_args()"
   ]
  },
  {
   "cell_type": "markdown",
   "metadata": {},
   "source": [
    "`parser = reqparse.RequestParser()` 建立一個新的 parser\n",
    "\n",
    "`parser.add_argument()` 加入 parser 修剪對象 (key) 及條件\n",
    "\n",
    "`data = parser.parse_args()` 針對設定對象執行修剪\n",
    "\n",
    "如此不論使用者傳入的 JSON 包含什麼資料，都會被修剪成只剩下指定的資料\n",
    "\n",
    "註：此函式可用於修剪 HTML 的 Form"
   ]
  },
  {
   "cell_type": "markdown",
   "metadata": {},
   "source": [
    "通常 parser 會定義在主類別之下，避免在函式中重複複製貼上\n",
    "\n",
    "故可將程式碼修改如下："
   ]
  },
  {
   "cell_type": "code",
   "execution_count": null,
   "metadata": {},
   "outputs": [],
   "source": [
    "class Item(Resource):\n",
    "    parser = reqparse.RequestParser()\n",
    "    parser.add_argument('price',\n",
    "        type=float,\n",
    "        required=True,\n",
    "        help=\"This field cannot be left blank!\"\n",
    "    )\n",
    "\n",
    "    def post(self, name):\n",
    "        if next(filter(lambda x: x['name'] == name, items), None) is not None:\n",
    "            return {'message': \"An item with name '{}' already exists.\".format(name)}\n",
    "\n",
    "        data = Item.parser.parse_args()\n",
    "        item = {'name': name, 'price': data['price']}\n",
    "        items.append(item)\n",
    "        return item"
   ]
  },
  {
   "cell_type": "markdown",
   "metadata": {},
   "source": [
    "要注意的是，在 `post` 函式中的 `if` 條件式位於 `data = Item.parser.parse_args()` 前面\n",
    "\n",
    "因為在判斷物品已經存在的情況下，不會新增物品，就沒有必要對資料作修剪"
   ]
  }
 ],
 "metadata": {
  "kernelspec": {
   "display_name": "Python 3",
   "language": "python",
   "name": "python3"
  },
  "language_info": {
   "codemirror_mode": {
    "name": "ipython",
    "version": 3
   },
   "file_extension": ".py",
   "mimetype": "text/x-python",
   "name": "python",
   "nbconvert_exporter": "python",
   "pygments_lexer": "ipython3",
   "version": "3.6.4"
  }
 },
 "nbformat": 4,
 "nbformat_minor": 2
}
