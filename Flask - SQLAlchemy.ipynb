{
 "cells": [
  {
   "cell_type": "markdown",
   "metadata": {},
   "source": [
    "# 0-1　套件分類"
   ]
  },
  {
   "cell_type": "markdown",
   "metadata": {},
   "source": [
    "在 Python 中，資料夾被視為 Package\n",
    "\n",
    "我們可以創造 models、resources 資料夾，並在裡面放入 `__init__.py` 檔案標示其為 Package\n",
    "\n",
    "models 中的類別用來儲存及操作資料，例如：\n",
    "\n",
    "- item.find_by_name()\n",
    "- item.insert()\n",
    "\n",
    "通常 models 中的函式會是 classmethod (關於 classmethod 與 staticmethod 的 [補充說明](https://stackoverflow.com/questions/12179271/meaning-of-classmethod-and-staticmethod-for-beginner) )\n",
    "\n",
    "`item.find_by_name()` 在執行完後會回傳一個類別，故為 classmethod\n",
    "\n",
    "而 `item.insert()`、`item.update()`是插入或更新自己，故使用 self 而不會是 classmethod\n",
    "\n",
    "resources 裡的類別用來與外部用戶端溝通，例如 HTTP 方法：\n",
    "\n",
    "- item.get()\n",
    "\n",
    "- item.post()\n",
    "\n"
   ]
  },
  {
   "cell_type": "markdown",
   "metadata": {},
   "source": [
    "# 0-2　分類實作"
   ]
  },
  {
   "cell_type": "markdown",
   "metadata": {},
   "source": [
    "以下節錄說明各目錄下程式重點內容："
   ]
  },
  {
   "cell_type": "markdown",
   "metadata": {},
   "source": [
    "- 主目錄下的 app.py"
   ]
  },
  {
   "cell_type": "code",
   "execution_count": null,
   "metadata": {},
   "outputs": [],
   "source": [
    "from resources.user import UserRegister\n",
    "from resources.item import Item, ItemList\n",
    "from resources.store import Store, StoreList"
   ]
  },
  {
   "cell_type": "markdown",
   "metadata": {},
   "source": [
    "可以匯入在 resources 資料夾中的 user.py，並使用其中的 `UserRegister` 類別，以此類推"
   ]
  },
  {
   "cell_type": "markdown",
   "metadata": {},
   "source": [
    "- resources 目錄下的 item.py"
   ]
  },
  {
   "cell_type": "code",
   "execution_count": null,
   "metadata": {},
   "outputs": [],
   "source": [
    "from flask_restful import Resource, reqparse\n",
    "from models.item import ItemModel\n",
    "\n",
    "class Item(Resource):\n",
    "    parser = reqparse.RequestParser()\n",
    "    parser.add_argument('price',\n",
    "                        type=float,\n",
    "                        required=True,\n",
    "                        help=\"This field cannot be left blank!\"\n",
    "                        )\n",
    "    parser.add_argument('store_id',\n",
    "                        type=int,\n",
    "                        required=True,\n",
    "                        help=\"Every item needs a store_id.\"\n",
    "                        )\n",
    "\n",
    "    def post(self, name):\n",
    "        if ItemModel.find_by_name(name):\n",
    "            return {'message': \"An item with name '{}' already exists.\".format(name)}, 400\n",
    "\n",
    "        data = Item.parser.parse_args()\n",
    "        item = ItemModel(name, **data)\n",
    "\n",
    "        try:\n",
    "            item.save_to_db()\n",
    "        except:\n",
    "            return {\"message\": \"An error occurred inserting the item.\"}, 500\n",
    "\n",
    "        return item.json(), 201"
   ]
  },
  {
   "cell_type": "markdown",
   "metadata": {},
   "source": [
    "resources 下的 item.py 裡面的函式會使用 models 下的 item.py 裡定義的函式\n",
    "\n",
    "被移到 models.item 的函式裡原本的 `self` 都改為使用 `ItemModel` 來呼叫"
   ]
  },
  {
   "cell_type": "markdown",
   "metadata": {},
   "source": [
    "註一： `**data` 可還原成：`data['price'], data['store_id']`   \n",
    "　　　類似的作法是 `row[0], row[1]` 簡化成 `*row`，差別在有 key 時是兩個星號"
   ]
  },
  {
   "cell_type": "markdown",
   "metadata": {},
   "source": [
    "註二：存入資料庫之動作適合使用 `try` 條件式，當錯誤發生時會執行 `except` 中之內容 \n",
    "\n",
    "- try：試著執行某段程式碼\n",
    "- except 某錯誤：當發生某錯誤時要進行的動作\n",
    "- else：無錯誤發生的時候進行動作\n",
    "- finally：無論有無錯誤最後都會進行的動作"
   ]
  },
  {
   "cell_type": "markdown",
   "metadata": {},
   "source": [
    "***"
   ]
  },
  {
   "cell_type": "markdown",
   "metadata": {},
   "source": [
    "# 1　基本構成"
   ]
  },
  {
   "cell_type": "markdown",
   "metadata": {},
   "source": [
    "在主目錄新增 db.py"
   ]
  },
  {
   "cell_type": "code",
   "execution_count": null,
   "metadata": {},
   "outputs": [],
   "source": [
    "from flask_sqlalchemy import SQLAlchemy\n",
    "\n",
    "db = SQLAlchemy()"
   ]
  },
  {
   "cell_type": "markdown",
   "metadata": {},
   "source": [
    "如此創造一個 `SQLAlchemy` 物件來連結資料庫中的各個物件"
   ]
  },
  {
   "cell_type": "markdown",
   "metadata": {},
   "source": [
    "- 主目錄下的 app.py"
   ]
  },
  {
   "cell_type": "code",
   "execution_count": null,
   "metadata": {},
   "outputs": [],
   "source": [
    "@app.before_first_request\n",
    "def create_tables():\n",
    "    db.create_all()"
   ]
  },
  {
   "cell_type": "markdown",
   "metadata": {},
   "source": [
    "`before_first_request` 是來自 `flask` 的 decorator，\n",
    "\n",
    "`db.create_all()` 會讓 `SQLAlchemy` 自動產生所需要的表單 (table) 如果它們不存在"
   ]
  },
  {
   "cell_type": "code",
   "execution_count": null,
   "metadata": {},
   "outputs": [],
   "source": [
    "if __name__ == '__main__':    \n",
    "    from db import db\n",
    "    db.init_app(app)\n",
    "    app.run(port=5000, debug=True)"
   ]
  },
  {
   "cell_type": "markdown",
   "metadata": {},
   "source": [
    "由於 models 當中的 item 及 user 也會 import db\n",
    "\n",
    "為了避免 __circular import__，在 app.py 當中會選擇在此處 import"
   ]
  },
  {
   "cell_type": "markdown",
   "metadata": {},
   "source": [
    "另外，可以在 app.py 中做以下設定："
   ]
  },
  {
   "cell_type": "code",
   "execution_count": null,
   "metadata": {},
   "outputs": [],
   "source": [
    "app.config['SQLALCHEMY_TRACK_MODIFICATIONS'] = False"
   ]
  },
  {
   "cell_type": "markdown",
   "metadata": {},
   "source": [
    "將 Flask 版本的 SQLAlchemy 資料異動追蹤功能關閉，因為原始 SQLAlchemy 已有追蹤功能"
   ]
  },
  {
   "cell_type": "code",
   "execution_count": null,
   "metadata": {},
   "outputs": [],
   "source": [
    "app.config['SQLALCHEMY_DATABASE_URI'] = 'sqlite:///data.db'"
   ]
  },
  {
   "cell_type": "markdown",
   "metadata": {},
   "source": [
    "指定目標資料庫的路徑，也可以是 PostgreSQL、SQLite、MySQL"
   ]
  },
  {
   "cell_type": "markdown",
   "metadata": {},
   "source": [
    "***"
   ]
  },
  {
   "cell_type": "markdown",
   "metadata": {},
   "source": [
    "# 2-1　實作語法 - 設定"
   ]
  },
  {
   "cell_type": "markdown",
   "metadata": {},
   "source": [
    "- models 目錄下的 items.py"
   ]
  },
  {
   "cell_type": "code",
   "execution_count": null,
   "metadata": {},
   "outputs": [],
   "source": [
    "from db import db\n",
    "\n",
    "class ItemModel(db.Model):\n",
    "    __tablename__ = 'items'\n",
    "    id = db.Column(db.Integer, primary_key=True)\n",
    "    name = db.Column(db.String(80))\n",
    "    price = db.Column(db.Float(precision=2))\n",
    "    store_id = db.Column(db.Integer, db.ForeignKey('stores.id'))\n",
    "    store = db.relationship('StoreModel')"
   ]
  },
  {
   "cell_type": "markdown",
   "metadata": {},
   "source": [
    "`class ItemModel(db.Model)` 類別繼承 `db.Model` 以建立物件之間的連結關係\n",
    "\n",
    "`__tablename__ = 'items'` 在資料庫中創造名為 `items` 的表單\n",
    "\n",
    "`db.Column(db.資料型態, 主外鍵)` 建立欄位\n",
    "\n",
    "`db.relationship(model)` 指定外鍵所要連結的表單所在的 model"
   ]
  },
  {
   "cell_type": "code",
   "execution_count": null,
   "metadata": {},
   "outputs": [],
   "source": [
    "    def __init__(self, name, price, store_id):\n",
    "        self.name = name\n",
    "        self.price = price\n",
    "        self.store_id = store_id"
   ]
  },
  {
   "cell_type": "markdown",
   "metadata": {},
   "source": [
    "由於 SQLAlchemy 會自動指定 `id`，故不需要輸入 `_id` 參數及加入 `self.id = _id`"
   ]
  },
  {
   "cell_type": "markdown",
   "metadata": {},
   "source": [
    "# 2-2　實作語法 - 操作"
   ]
  },
  {
   "cell_type": "markdown",
   "metadata": {},
   "source": [
    "- models 目錄下的 items.py"
   ]
  },
  {
   "cell_type": "code",
   "execution_count": null,
   "metadata": {},
   "outputs": [],
   "source": [
    "    @classmethod\n",
    "    def find_by_name(cls, name):\n",
    "        return cls.query.filter_by(name=name).first()"
   ]
  },
  {
   "cell_type": "markdown",
   "metadata": {},
   "source": [
    "SQL 語法對照：\n",
    "\n",
    "- `cls.query`　＝　`SELECT * FROM cls_table` (此處 cls_table 為 items)\n",
    "- `.filter_by(name=name)`　＝　`WHERE name=name`\n",
    "- `.first()`　＝　`LIMIT 1`\n",
    "\n",
    "SQLAlchemy 會將結果回傳並自動轉換為 `ItemModel` 物件"
   ]
  },
  {
   "cell_type": "markdown",
   "metadata": {},
   "source": [
    "在 sqlite3 同樣功能的函式寫法會是："
   ]
  },
  {
   "cell_type": "code",
   "execution_count": null,
   "metadata": {},
   "outputs": [],
   "source": [
    "import sqlite3\n",
    "\n",
    "    @classmethod\n",
    "    def find_by_name(cls, name):\n",
    "        connection = sqlite3.connect('data.db')\n",
    "        cursor = connection.cursor()\n",
    "\n",
    "        query = \"SELECT * FROM items WHERE name=?\"\n",
    "        result = cursor.execute(query, (name,))\n",
    "        row = result.fetchone()\n",
    "        connection.close()\n",
    "\n",
    "        if row:\n",
    "            return cls(*row)"
   ]
  },
  {
   "cell_type": "markdown",
   "metadata": {},
   "source": [
    "註：在 sqlite3 的 execute query 需要傳入 tuple，單一元素的情況下寫成 `(element,)`"
   ]
  },
  {
   "cell_type": "markdown",
   "metadata": {},
   "source": [
    "回到 SQLAlchemy，再加入其他函式："
   ]
  },
  {
   "cell_type": "code",
   "execution_count": null,
   "metadata": {},
   "outputs": [],
   "source": [
    "    def save_to_db(self):\n",
    "        db.session.add(self)\n",
    "        db.session.commit()\n",
    "\n",
    "    def delete_from_db(self):\n",
    "        db.session.delete(self)\n",
    "        db.session.commit()"
   ]
  },
  {
   "cell_type": "markdown",
   "metadata": {},
   "source": [
    "`db.session.add()` 為 upsert 作用，兼具 update 及 insert 功能"
   ]
  },
  {
   "cell_type": "markdown",
   "metadata": {},
   "source": [
    "- resources 目錄下的 items.py"
   ]
  },
  {
   "cell_type": "code",
   "execution_count": null,
   "metadata": {},
   "outputs": [],
   "source": [
    "class ItemList(Resource):\n",
    "\n",
    "    def get(self):\n",
    "        return {'items': [item.json() for item in ItemModel.query.all()]}"
   ]
  },
  {
   "cell_type": "markdown",
   "metadata": {},
   "source": [
    "`cls.query.all()` 選取所有元素\n",
    "\n",
    "並利用 list comprehension 轉換資料格式"
   ]
  },
  {
   "cell_type": "markdown",
   "metadata": {},
   "source": [
    "list comprehension 具有 Python 風格\n",
    "\n",
    "但也可以使用其他程式語言會出現的 `map` 函式來達成："
   ]
  },
  {
   "cell_type": "code",
   "execution_count": null,
   "metadata": {},
   "outputs": [],
   "source": [
    "return {'items': list(map(lambda x: x.json(), ItemModel.query.all()))}"
   ]
  },
  {
   "cell_type": "markdown",
   "metadata": {},
   "source": [
    "註：這邊引用到的 `json()` 函式如下："
   ]
  },
  {
   "cell_type": "code",
   "execution_count": null,
   "metadata": {},
   "outputs": [],
   "source": [
    "    def json(self):\n",
    "        return {'name': self.name, 'price': self.price}"
   ]
  },
  {
   "cell_type": "markdown",
   "metadata": {},
   "source": [
    "轉換流程會是：\n",
    "\n",
    "1. `ItemModel.query.all()` 回傳許多 `ItemModel` 物件\n",
    "2. `item.json()` 將物件轉換為 dict\n",
    "3. `ItemList.get()` 回傳一個包含所有商品的 dict\n",
    "4. 由於 `ItemList` 類別繼承 `flask_restful` 的 `Resource`，此 dict 會自動轉換成 JSON\n",
    "\n"
   ]
  },
  {
   "cell_type": "markdown",
   "metadata": {},
   "source": [
    "***"
   ]
  },
  {
   "cell_type": "markdown",
   "metadata": {},
   "source": [
    "# 3-1　骨架整理 - APP"
   ]
  },
  {
   "cell_type": "code",
   "execution_count": null,
   "metadata": {},
   "outputs": [],
   "source": [
    "from flask import Flask\n",
    "from flask_restful import Api\n",
    "from flask_jwt import JWT\n",
    "\n",
    "from security import authenticate, identity\n",
    "from resources.user import UserRegister\n",
    "from resources.item import Item, ItemList\n",
    "from resources.store import Store, StoreList\n",
    "\n",
    "app = Flask(__name__)\n",
    "app.config['SQLALCHEMY_DATABASE_URI'] = 'sqlite:///data.db'\n",
    "app.config['SQLALCHEMY_TRACK_MODIFICATIONS'] = False\n",
    "app.config['PROPAGATE_EXCEPTIONS'] = True\n",
    "app.secret_key = 'jose'\n",
    "api = Api(app)\n",
    "\n",
    "@app.before_first_request\n",
    "def create_tables():\n",
    "    db.create_all()\n",
    "\n",
    "jwt = JWT(app, authenticate, identity)  # /auth\n",
    "api.add_resource(Store, '/store/<string:name>')\n",
    "api.add_resource(StoreList, '/stores')\n",
    "api.add_resource(Item, '/item/<string:name>')\n",
    "api.add_resource(ItemList, '/items')\n",
    "api.add_resource(UserRegister, '/register')\n",
    "\n",
    "if __name__ == '__main__':\n",
    "    from db import db\n",
    "    db.init_app(app)\n",
    "    app.run(port=5000, debug=True)"
   ]
  },
  {
   "cell_type": "markdown",
   "metadata": {},
   "source": [
    "# 3-2　骨架整理 - Model"
   ]
  },
  {
   "cell_type": "code",
   "execution_count": null,
   "metadata": {},
   "outputs": [],
   "source": [
    "from db import db\n",
    "\n",
    "\n",
    "class StoreModel(db.Model):\n",
    "    __tablename__ = 'stores'\n",
    "\n",
    "    id = db.Column(db.Integer, primary_key=True)\n",
    "    name = db.Column(db.String(80))\n",
    "\n",
    "    items = db.relationship('ItemModel', lazy='dynamic')\n",
    "\n",
    "    def __init__(self, name):\n",
    "        self.name = name\n",
    "\n",
    "    def json(self):\n",
    "        return {'name': self.name, 'items': [item.json() for item in self.items.all()]}\n",
    "\n",
    "    @classmethod\n",
    "    def find_by_name(cls, name):\n",
    "        return cls.query.filter_by(name=name).first()\n",
    "\n",
    "    def save_to_db(self):\n",
    "        db.session.add(self)\n",
    "        db.session.commit()\n",
    "\n",
    "    def delete_from_db(self):\n",
    "        db.session.delete(self)\n",
    "        db.session.commit()"
   ]
  },
  {
   "cell_type": "markdown",
   "metadata": {},
   "source": [
    "db.py"
   ]
  },
  {
   "cell_type": "code",
   "execution_count": null,
   "metadata": {},
   "outputs": [],
   "source": [
    "from flask_sqlalchemy import SQLAlchemy\n",
    "\n",
    "db = SQLAlchemy()"
   ]
  },
  {
   "cell_type": "markdown",
   "metadata": {},
   "source": [
    "# 3-3　骨架整理 - Resource"
   ]
  },
  {
   "cell_type": "code",
   "execution_count": null,
   "metadata": {},
   "outputs": [],
   "source": [
    "from flask_restful import Resource\n",
    "from models.store import StoreModel\n",
    "\n",
    "\n",
    "class Store(Resource):\n",
    "    def get(self, name):\n",
    "        store = StoreModel.find_by_name(name)\n",
    "        if store:\n",
    "            return store.json()\n",
    "        return {'message': 'Store not found'}, 404\n",
    "\n",
    "    def post(self, name):\n",
    "        if StoreModel.find_by_name(name):\n",
    "            return {'message': \"A store with name '{}' already exists.\".format(name)}, 400\n",
    "\n",
    "        store = StoreModel(name)\n",
    "        try:\n",
    "            store.save_to_db()\n",
    "        except:\n",
    "            return {\"message\": \"An error occurred creating the store.\"}, 500\n",
    "\n",
    "        return store.json(), 201\n",
    "\n",
    "    def delete(self, name):\n",
    "        store = StoreModel.find_by_name(name)\n",
    "        if store:\n",
    "            store.delete_from_db()\n",
    "\n",
    "        return {'message': 'Store deleted'}\n",
    "\n",
    "\n",
    "class StoreList(Resource):\n",
    "    def get(self):\n",
    "        return {'stores': list(map(lambda x: x.json(), StoreModel.query.all()))}"
   ]
  }
 ],
 "metadata": {
  "kernelspec": {
   "display_name": "Python 3",
   "language": "python",
   "name": "python3"
  },
  "language_info": {
   "codemirror_mode": {
    "name": "ipython",
    "version": 3
   },
   "file_extension": ".py",
   "mimetype": "text/x-python",
   "name": "python",
   "nbconvert_exporter": "python",
   "pygments_lexer": "ipython3",
   "version": "3.6.4"
  }
 },
 "nbformat": 4,
 "nbformat_minor": 2
}
