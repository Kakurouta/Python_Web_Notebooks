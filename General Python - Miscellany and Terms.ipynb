{
 "cells": [
  {
   "cell_type": "markdown",
   "metadata": {},
   "source": [
    "# 常用名詞及縮寫"
   ]
  },
  {
   "cell_type": "markdown",
   "metadata": {},
   "source": [
    "* ADT - abstract data type  \n",
    "抽象資料型態：一種邏輯性的描述，包含如何查看資料，以及對資料進行操作的方法<br>\n",
    "是對資料的一種包裝 (encapsulating) 以及資料隱藏 (information hiding)<br>\n",
    "抽象資料型態的實作 (implement) 即稱為資料結構 (data structure)"
   ]
  },
  {
   "cell_type": "markdown",
   "metadata": {},
   "source": [
    "# `input()`輸入"
   ]
  },
  {
   "cell_type": "code",
   "execution_count": 2,
   "metadata": {},
   "outputs": [
    {
     "name": "stdout",
     "output_type": "stream",
     "text": [
      "Please input a number: 5\n",
      "n square is: 25\n"
     ]
    }
   ],
   "source": [
    "n = int(input('Please input a number: '))\n",
    "print('n square is:', n**2)"
   ]
  },
  {
   "cell_type": "markdown",
   "metadata": {},
   "source": [
    "# `%` 及 `format()` 字串格式化"
   ]
  },
  {
   "cell_type": "code",
   "execution_count": 4,
   "metadata": {},
   "outputs": [
    {
     "name": "stdout",
     "output_type": "stream",
     "text": [
      "There exists Wolf in Forest with a size of 50.\n"
     ]
    }
   ],
   "source": [
    "name = 'Wolf'\n",
    "location = 'Forest'\n",
    "number = 50\n",
    "print('There exists %s in %s with a size of %d.' % (name, location, number))"
   ]
  },
  {
   "cell_type": "code",
   "execution_count": 23,
   "metadata": {},
   "outputs": [
    {
     "name": "stdout",
     "output_type": "stream",
     "text": [
      "Disney Land\n",
      "Disney Disney Land Disney\n",
      "The first superhero is batman\n",
      "Age of superheroes: wolverine:35, ironman:40, batman:30.\n",
      "My favorite dessert is the strawberry icecream of HotStone.\n",
      "My favorite brand is HotStone\n"
     ]
    }
   ],
   "source": [
    "print('{} {}'.format('Disney', 'Land'))\n",
    "print('{0} {0} {1} {0}'.format('Disney', 'Land'))\n",
    "\n",
    "superhero = ['batman', 'ironman', 'wolverine']\n",
    "age = [30, 40, 35]\n",
    "print('The first superhero is {0}'.format(*superhero))\n",
    "print('Age of superheroes: {0[2]}:{1[2]}, {0[1]}:{1[1]}, {0[0]}:{1[0]}.'.format(superhero, age))\n",
    "\n",
    "dessert = {'name':'icecream', 'flavor':'strawberry', 'brand':'HotStone'}\n",
    "print('My favorite dessert is the {flavor} {name} of {brand}.'.format(**dessert))\n",
    "print('My favorite brand is {0[brand]}'.format(dessert))"
   ]
  },
  {
   "cell_type": "markdown",
   "metadata": {},
   "source": [
    "數字的表示"
   ]
  },
  {
   "cell_type": "code",
   "execution_count": 34,
   "metadata": {},
   "outputs": [
    {
     "name": "stdout",
     "output_type": "stream",
     "text": [
      "a = 1234.57\n",
      "a =    1234.57\n",
      "a = 1234.57\n",
      "a = 1.235e+03\n"
     ]
    }
   ],
   "source": [
    "a = 1234.56789\n",
    "print('a = %.2f' % a)\n",
    "print('a = %10.2f' % a) # total length 10\n",
    "print('a = {:.2f}'.format(a))\n",
    "print('a = {:.3e}'.format(a))"
   ]
  },
  {
   "cell_type": "markdown",
   "metadata": {},
   "source": [
    "最新的 f-string 表示法，還可以內置函數或類別，使用方式為大小寫`F`加上單雙引號"
   ]
  },
  {
   "cell_type": "code",
   "execution_count": 54,
   "metadata": {},
   "outputs": [
    {
     "name": "stdout",
     "output_type": "stream",
     "text": [
      "There exists Wolf in Forest with a size of 50.\n",
      "1234.57\n",
      "11111.1111\n"
     ]
    }
   ],
   "source": [
    "name = 'Wolf'\n",
    "location = 'Forest'\n",
    "number = 50\n",
    "print(f'There exists {name} in {location} with a size of {number}.')\n",
    "\n",
    "a = 1234.56789\n",
    "print(f'{a:.2f}')\n",
    "b = 9876.54321\n",
    "print(f'{a+b:.4f}')"
   ]
  },
  {
   "cell_type": "code",
   "execution_count": 48,
   "metadata": {},
   "outputs": [
    {
     "name": "stdout",
     "output_type": "stream",
     "text": [
      "The sorcerer is level 50 and has learned thunderstrom\n",
      "The sorcerer is level 50 and has learned thunderstrom\n",
      "The sorcerer is level 50 and has learned thunderstrom Yeah!\n"
     ]
    }
   ],
   "source": [
    "class Sorcerer:\n",
    "    def __init__(self):\n",
    "        self.magic = 'thunderstrom'\n",
    "        self.level = 50\n",
    "    def __str__(self):\n",
    "        return f'The sorcerer is level {self.level} and has learned {self.magic}'\n",
    "    def __repr__(self):\n",
    "        return f'The sorcerer is level {self.level} and has learned {self.magic} Yeah!'\n",
    "\n",
    "s = Sorcerer()\n",
    "print(s)\n",
    "print(f'{s}')\n",
    "print(f'{s!r}')"
   ]
  },
  {
   "cell_type": "markdown",
   "metadata": {},
   "source": [
    "要注意的是字典引用時要使用`f\"`雙引號而不能用`f'`單引號"
   ]
  },
  {
   "cell_type": "code",
   "execution_count": 44,
   "metadata": {},
   "outputs": [
    {
     "name": "stdout",
     "output_type": "stream",
     "text": [
      "My favorite dessert is the strawberry icecream of HotStone.\n"
     ]
    }
   ],
   "source": [
    "d = {'name':'icecream', 'flavor':'strawberry', 'brand':'HotStone'}\n",
    "print(f\"My favorite dessert is the {d['flavor']} {d['name']} of {d['brand']}.\")"
   ]
  },
  {
   "cell_type": "code",
   "execution_count": null,
   "metadata": {},
   "outputs": [],
   "source": []
  }
 ],
 "metadata": {
  "kernelspec": {
   "display_name": "Python 3",
   "language": "python",
   "name": "python3"
  },
  "language_info": {
   "codemirror_mode": {
    "name": "ipython",
    "version": 3
   },
   "file_extension": ".py",
   "mimetype": "text/x-python",
   "name": "python",
   "nbconvert_exporter": "python",
   "pygments_lexer": "ipython3",
   "version": "3.7.3"
  }
 },
 "nbformat": 4,
 "nbformat_minor": 2
}
