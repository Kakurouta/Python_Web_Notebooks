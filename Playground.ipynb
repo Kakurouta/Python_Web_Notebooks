{
 "cells": [
  {
   "cell_type": "code",
   "execution_count": 17,
   "metadata": {},
   "outputs": [
    {
     "name": "stdout",
     "output_type": "stream",
     "text": [
      "567\n",
      "Teststr is (number) 567\n"
     ]
    }
   ],
   "source": [
    "class Test:\n",
    "    teststr = '(number)'\n",
    "    def __init__(self,number):\n",
    "        self.number = number\n",
    "\n",
    "        \n",
    "mytest = Test(567)\n",
    "print(mytest.number)\n",
    "print('Teststr is %s %d' % (Test.teststr, mytest.number))"
   ]
  },
  {
   "cell_type": "code",
   "execution_count": 35,
   "metadata": {},
   "outputs": [
    {
     "name": "stdout",
     "output_type": "stream",
     "text": [
      "INSERT INTO lucaslintest (self, userId, userName, userParameter, remark, modelId, modelVersion) VALUES (0, Mary, Good Model!)\n"
     ]
    }
   ],
   "source": [
    "import time\n",
    "\n",
    "class UserModel:\n",
    "    plist = '(self, userId, userName, userParameter, remark, modelId, modelVersion)'\n",
    "    def __init__(self, userId, userName, userParameter, remark, modelId, modelVersion):\n",
    "        self.userId = userId # id is a python keyword\n",
    "        self.userName = userName\n",
    "        self.userParameter = userParameter\n",
    "        self.remark = remark\n",
    "        self.modelId = modelId\n",
    "        self.modelVersion = modelVersion\n",
    "\n",
    "\n",
    "data = {'userId':'0', 'userName':'Mary', 'userParameter':'Good Model!'}\n",
    "timestamp = int(round(time.time()))\n",
    "stra = 'INSERT INTO lucaslintest %s VALUES (%s, %s, %s)' % (UserModel.plist, data['userId'], data['userName'], data['userParameter'])\n",
    "print(stra)"
   ]
  },
  {
   "cell_type": "code",
   "execution_count": 46,
   "metadata": {},
   "outputs": [
    {
     "ename": "SyntaxError",
     "evalue": "invalid syntax (<ipython-input-46-de78154967db>, line 42)",
     "output_type": "error",
     "traceback": [
      "\u001b[1;36m  File \u001b[1;32m\"<ipython-input-46-de78154967db>\"\u001b[1;36m, line \u001b[1;32m42\u001b[0m\n\u001b[1;33m    print('(%s, %s, %s, %s, %s, %s)' % **newmodel.asdict())\u001b[0m\n\u001b[1;37m                                        ^\u001b[0m\n\u001b[1;31mSyntaxError\u001b[0m\u001b[1;31m:\u001b[0m invalid syntax\n"
     ]
    }
   ],
   "source": [
    "import time\n",
    "\n",
    "class UserModel:\n",
    "    plist = '(self, userId, modelName, userParameter, remark, modelId, modelVersion)'\n",
    "    def __init__(self, userId, modelName, userParameter, remark, modelId, modelVersion):\n",
    "        self.userId = userId # id is a python keyword\n",
    "        self.modelName = modelName\n",
    "        self.userParameter = userParameter\n",
    "        self.remark = remark\n",
    "        self.modelId = modelId\n",
    "        self.modelVersion = modelVersion\n",
    "\n",
    "    def asdict(self):\n",
    "        return {\n",
    "            'userId': self.userId,\n",
    "            'modelName': self.modelName,\n",
    "            'userParameter': self.userParameter,\n",
    "            'remark': self.remark,\n",
    "            'modelId': self.modelId,\n",
    "            'modelVersion': self.modelVersion\n",
    "        }\n",
    "\n",
    "\n",
    "\n",
    "\n",
    "data = {\n",
    "    'userId': 'Mary',\n",
    "    'modelName': 'CNN',\n",
    "    'userParameter': {'p1':100, 'p2': 200},\n",
    "    'remark': 'Wonderful Model'        \n",
    "}\n",
    "timestamp = int(round(time.time())) # as modelId\n",
    "newmodel = UserModel(\n",
    "    data['userId'],\n",
    "    data['modelName'],\n",
    "    data['userParameter'],\n",
    "    data['remark'],\n",
    "    timestamp,\n",
    "    6\n",
    ")\n",
    "\n",
    "print('(%s, %s, %s, %s, %s, %s)' % **newmodel.asdict())\n",
    "\n"
   ]
  },
  {
   "cell_type": "code",
   "execution_count": 48,
   "metadata": {},
   "outputs": [
    {
     "name": "stdout",
     "output_type": "stream",
     "text": [
      "{'result': [{'Name': 'Mary1', 'Pet': 'Rolf'}, {'Name': 'Mary2', 'Pet': 'Rolf'}, {'Name': 'Mary3', 'Pet': 'Rolf'}]}\n"
     ]
    }
   ],
   "source": [
    "result = [{'Name':'Mary1', 'Pet':'Rolf'}, {'Name':'Mary2', 'Pet':'Rolf'}, {'Name':'Mary3', 'Pet':'Rolf'}]\n",
    "result_return = []\n",
    "for row in result:\n",
    "    result_return.append(row)\n",
    "print ({'result': result_return})"
   ]
  },
  {
   "cell_type": "code",
   "execution_count": null,
   "metadata": {},
   "outputs": [],
   "source": []
  }
 ],
 "metadata": {
  "kernelspec": {
   "display_name": "Python 3",
   "language": "python",
   "name": "python3"
  },
  "language_info": {
   "codemirror_mode": {
    "name": "ipython",
    "version": 3
   },
   "file_extension": ".py",
   "mimetype": "text/x-python",
   "name": "python",
   "nbconvert_exporter": "python",
   "pygments_lexer": "ipython3",
   "version": "3.6.4"
  }
 },
 "nbformat": 4,
 "nbformat_minor": 2
}
