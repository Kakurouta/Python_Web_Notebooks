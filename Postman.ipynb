{
 "cells": [
  {
   "cell_type": "markdown",
   "metadata": {},
   "source": [
    "# 1　使用 POST 方法傳送 JSON 格式資料"
   ]
  },
  {
   "cell_type": "markdown",
   "metadata": {},
   "source": [
    "在 Headers 標籤下：\n",
    "\n",
    "- key 設為 Content-Type\n",
    "\n",
    "- value 設為 application/json"
   ]
  },
  {
   "cell_type": "markdown",
   "metadata": {},
   "source": [
    "在 Body 標籤下：\n",
    "\n",
    "- 選擇 raw\n",
    "\n",
    "- 在下方空白處輸入 JSON 格式資料，例如： `{'name': 'My Store'}`"
   ]
  },
  {
   "cell_type": "markdown",
   "metadata": {},
   "source": [
    "***"
   ]
  },
  {
   "cell_type": "markdown",
   "metadata": {},
   "source": [
    "# 2　Flask_jwt 驗證功能"
   ]
  },
  {
   "cell_type": "markdown",
   "metadata": {},
   "source": [
    "登入程序：\n",
    "\n",
    "- 在 Postman 使用 POST http://127.0.0.1:5000/auth\n",
    "- 並丟入使用者資訊 JSON   \n",
    "`{\"username\": \"Starlord\", \"password\": \"infinitygauntlet\"}`\n",
    "- 若正確，可得到 access_token 回傳\n",
    "\n",
    "將 token 複製後，在指令的 Headers 標籤下：\n",
    "- key 設為 Authorization\n",
    "- value 設為 JWT + 空格 + 剛剛複製的 token (例如：JWT aSr9AGsd0D...)"
   ]
  },
  {
   "cell_type": "markdown",
   "metadata": {},
   "source": [
    "***"
   ]
  },
  {
   "cell_type": "markdown",
   "metadata": {},
   "source": [
    "# 3　環境變數"
   ]
  },
  {
   "cell_type": "markdown",
   "metadata": {},
   "source": [
    "以 `{{url}}/auth` 取代原先的 `http://127.0.0.1:5000/auth`：\n",
    "\n",
    "- 按右上角齒輪圖示，在 Manage Environments 當中 Add Environment\n",
    "- key 設定為 `url`、value 設定為 `http:127.0.0.1:5000` 之後按下 Add\n",
    "- 在右上角下拉式選單選擇剛才加入的 Environment 名稱即可生效"
   ]
  },
  {
   "cell_type": "markdown",
   "metadata": {},
   "source": [
    "以 `JWT {{jwt_token}}` 取代原先的內容：\n",
    "\n",
    "- 在 POST /auth 方法中的 Tests 裡，可以輸入 JavaScript 程式碼來處理接收到的資料\n",
    "- 右方有 SNIPPET 現成程式片段可使用，點選 JSON value check，可得以下程式碼"
   ]
  },
  {
   "cell_type": "code",
   "execution_count": null,
   "metadata": {},
   "outputs": [],
   "source": [
    "var jsonData = JSON.parse(responseBody);\n",
    "test[\"Your test name\"] = jsonData.access_token !== undefined  \n",
    "postman.setEnvironmentVariable(\"jwt_token\", jsonData.access_token)"
   ]
  },
  {
   "cell_type": "markdown",
   "metadata": {},
   "source": [
    "`test` 檢查回傳的 `access_token` 不為無效值  \n",
    "\n",
    "註：「不等於」在 JavaScript 是雙等號 `!==` ，而在 Python 是單等號 `!=`"
   ]
  },
  {
   "cell_type": "markdown",
   "metadata": {},
   "source": [
    "如此可自動將接收到的 `access_token` 設定成環境變數 `jwt_token`\n",
    "\n",
    "並可以在下方的 Tests (1/1) 當中看到 `access_token` 是否通過非無效值的檢定\n",
    "\n",
    "另外 SNIPPET 中提供的 Response time is less than 200ms 檢查也相當實用\n"
   ]
  }
 ],
 "metadata": {
  "kernelspec": {
   "display_name": "Python 3",
   "language": "python",
   "name": "python3"
  },
  "language_info": {
   "codemirror_mode": {
    "name": "ipython",
    "version": 3
   },
   "file_extension": ".py",
   "mimetype": "text/x-python",
   "name": "python",
   "nbconvert_exporter": "python",
   "pygments_lexer": "ipython3",
   "version": "3.6.4"
  }
 },
 "nbformat": 4,
 "nbformat_minor": 2
}
