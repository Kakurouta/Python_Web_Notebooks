{
 "cells": [
  {
   "cell_type": "markdown",
   "metadata": {},
   "source": [
    "# 1-1　基本構成"
   ]
  },
  {
   "cell_type": "markdown",
   "metadata": {},
   "source": [
    "在程式碼資料夾中有以下檔案："
   ]
  },
  {
   "cell_type": "markdown",
   "metadata": {},
   "source": [
    "- requirements.txt 裡面寫會用到那些 library\n",
    "- app.py 主程式\n",
    "- user.py 使用者相關類別\n",
    "- database.py 和資料庫溝通的程式"
   ]
  },
  {
   "cell_type": "markdown",
   "metadata": {},
   "source": [
    "在 user.py 的程式碼："
   ]
  },
  {
   "cell_type": "code",
   "execution_count": null,
   "metadata": {},
   "outputs": [],
   "source": [
    "import psycopg2\n",
    "\n",
    "class User:\n",
    "    def __init__(self, id, email, first_name, last_name):\n",
    "        self.id = id\n",
    "        self.email = email\n",
    "        self.first_name = first_name\n",
    "        self.last_name = last_name\n",
    "\n",
    "    def __repr__(self):\n",
    "        return \"User {} {}\".format(self.first_name, self.email)"
   ]
  },
  {
   "cell_type": "markdown",
   "metadata": {},
   "source": [
    "`__repr__` 函式回傳字串，之後 `print` 物件時會顯示此字串\n",
    "\n",
    "`__repr__` 為程式開發者導向，而類似功能的 `__str__` 為使用者導向、重視可讀性"
   ]
  },
  {
   "cell_type": "code",
   "execution_count": null,
   "metadata": {},
   "outputs": [],
   "source": [
    "    def save_to_db(self):\n",
    "        connection = psycopg2.connect\\\n",
    "        (user='postgres', password='1234', database ='learning', host='localhost')\n",
    "        \n",
    "        with connection.cursor() as cursor:\n",
    "            cursor.execute\\\n",
    "            ('INSERT INTO users (email, first_name, last_name) VALUES (%s, %s, %s)',\\\n",
    "            (self.email, self.first_name, self.lastname))\n",
    "            \n",
    "        connection.commit()\n",
    "        connection.close()"
   ]
  },
  {
   "cell_type": "markdown",
   "metadata": {},
   "source": [
    "`connection` 建立完後，需要藉由 `cursor` 來存取資料\n",
    "\n",
    "`with` 可以建立 `cursor` ，並在用完之後自動關閉\n",
    "\n",
    "`cursor.execute()` 當中的 `%s` 為外卡字元，會傳入逗號後方的指定參數 \n",
    "\n",
    "`psycopg2` 與資料庫的溝通流程：\n",
    "\n",
    "- `psycopg2.connect()` 與資料庫建立連線\n",
    "- `with connection.cursor()` 建立 `cursor`\n",
    "- `cursor.execute(SQL)` 執行 SQL 語法\n",
    "- (`cursor` 執行完後自動結束)\n",
    "- `connection.commit()` 執行語法__並存檔__ (源於早期硬碟讀寫耗時，故為分離的指令)\n",
    "- `connection.clost()` 關閉連線"
   ]
  },
  {
   "cell_type": "markdown",
   "metadata": {},
   "source": [
    "# 1-2　基本構成 - 簡化"
   ]
  },
  {
   "cell_type": "markdown",
   "metadata": {},
   "source": [
    "使用 `with` 再次精簡化："
   ]
  },
  {
   "cell_type": "code",
   "execution_count": null,
   "metadata": {},
   "outputs": [],
   "source": [
    "class User:\n",
    "    def save_to_db(self):\n",
    "        with psycopg2.connect(user='postgres', password='1234',\\\n",
    "                              database ='learning', host='localhost') as connection:\n",
    "        \n",
    "            with connection.cursor() as cursor:\n",
    "                cursor.execute\\\n",
    "                ('INSERT INTO users (email, first_name, last_name) VALUES (%s, %s, %s)',\\\n",
    "                (self.email, self.first_name, self.lastname))"
   ]
  },
  {
   "cell_type": "markdown",
   "metadata": {},
   "source": [
    "除了存入資料庫，我們還需要從資料庫搜尋並讀取資料："
   ]
  },
  {
   "cell_type": "code",
   "execution_count": null,
   "metadata": {},
   "outputs": [],
   "source": [
    "    @classmethod\n",
    "    def load_from_db_by_email(cls, email):\n",
    "        with psycopg2.connect(user='postgres', password='1234',\\\n",
    "                              database ='learning', host='localhost') as connection:\n",
    "        with connection.cursor() as cursor:\n",
    "                cursor.execute\\\n",
    "                ('SELECT * FROM users WHERE email=%s', (email,))\n",
    "                user_data = cursor.fetchone()\n",
    "                return cls(*user_data)"
   ]
  },
  {
   "cell_type": "markdown",
   "metadata": {},
   "source": [
    "這裡使用 `classmethod` 因為查詢完後要回傳一個 `User` 類別的物件\n",
    "\n",
    "而不是像一般函式傳入 `self` 對物件本身做操作\n",
    "\n",
    "注意：`cursor.execute()` 的參數傳入需要是 tuple，單一元素傳遞下需寫成 `(email,)`\n",
    "\n",
    "`cursor.fetchone()` 會回傳第一筆存在 `cursor` 中的搜尋結果\n",
    "\n",
    "`*user_data` 即 `user_data[0], user_data[1], user_data[2], user_data[3]`  \n",
    "(對應到 `id, email, first_name, last_name`)"
   ]
  },
  {
   "cell_type": "markdown",
   "metadata": {},
   "source": [
    "另外，注意到重複的程式碼，我們可以把 `connect` 放到 database.py："
   ]
  },
  {
   "cell_type": "code",
   "execution_count": null,
   "metadata": {},
   "outputs": [],
   "source": [
    "import psycopg2\n",
    "\n",
    "def connect():\n",
    "    return psycopg2.connect(user='postgres', password='1234',\\\n",
    "                              database ='learning', host='localhost')"
   ]
  },
  {
   "cell_type": "markdown",
   "metadata": {},
   "source": [
    "如此在 user.py 就不用引入 `psycopg2` ，並簡化為："
   ]
  },
  {
   "cell_type": "code",
   "execution_count": null,
   "metadata": {},
   "outputs": [],
   "source": [
    "from database import connect\n",
    "\n",
    "class User:\n",
    "    def save_to_db(self):\n",
    "        with connect() as connection:            "
   ]
  },
  {
   "cell_type": "markdown",
   "metadata": {},
   "source": [
    "***"
   ]
  },
  {
   "cell_type": "markdown",
   "metadata": {},
   "source": [
    "# 2-1　Connection Pool"
   ]
  },
  {
   "cell_type": "markdown",
   "metadata": {},
   "source": [
    "在上述的程式當中，每次存取資料庫都會包含連接與斷開連接\n",
    "\n",
    "大量執行這些函式會進行多次的連線與中斷連線，造成伺服器負擔\n",
    "\n",
    "我們可以使用 Connection Pool 來維持連線容量，不用每次執行函式時都進行連接或中斷"
   ]
  },
  {
   "cell_type": "markdown",
   "metadata": {},
   "source": [
    "在 database.py 中："
   ]
  },
  {
   "cell_type": "code",
   "execution_count": null,
   "metadata": {},
   "outputs": [],
   "source": [
    "from psycopg2 import pool\n",
    "\n",
    "connection_pool = pool.SimpleConnectionPool(1, 10,\\\n",
    "                                            user='postgres', password='1234',\\\n",
    "                                            database ='learning', host='localhost')"
   ]
  },
  {
   "cell_type": "markdown",
   "metadata": {},
   "source": [
    "`pool.SimpleConnectionPool(最低維持連接數, 最高連接數, 連接資訊)`\n",
    "\n",
    "如此在 user.py 可改為："
   ]
  },
  {
   "cell_type": "code",
   "execution_count": null,
   "metadata": {},
   "outputs": [],
   "source": [
    "from database import connection_pool\n",
    "\n",
    "class User:\n",
    "    def save_to_db(self):\n",
    "        with connection_pool.getconn() as connection:  "
   ]
  },
  {
   "cell_type": "markdown",
   "metadata": {},
   "source": [
    "`pool.getconn()` 建立連接到連線池"
   ]
  },
  {
   "cell_type": "markdown",
   "metadata": {},
   "source": [
    "要注意的是，Connection Pool 本身並沒有針對 `with` 寫定機制\n",
    "\n",
    "亦即就算寫了 `with connection_pool.getconn() as connection:`\n",
    "\n",
    "它的作用只是 `connection = connection_pool.getconn()` 而並不會在關閉時歸還連線\n",
    "\n",
    "故若最大連線數改為 1，再進行寫入及讀取會跳出 連線數用盡 的錯誤，因為寫入動作結束未歸還\n",
    "\n",
    "我們可以暫時修改為：\n"
   ]
  },
  {
   "cell_type": "code",
   "execution_count": null,
   "metadata": {},
   "outputs": [],
   "source": [
    "from database import connection_pool\n",
    "\n",
    "class User:\n",
    "    def save_to_db(self):\n",
    "        connection = connection_pool.getconn()\n",
    "        with connection.cursor() as cursor:\n",
    "            cursor.execute('...')\n",
    "        connection_pool.putconn(connection)\n",
    "    \n",
    "    @classmethod\n",
    "    def load_from_db_by_email(cls, email):\n",
    "        connection = connection_pool.getconn()\n",
    "        with connection.cursor() as cursor:\n",
    "            cursor.execute('...')\n",
    "            return cls(*user_data)"
   ]
  },
  {
   "cell_type": "markdown",
   "metadata": {},
   "source": [
    "使用 `connection_pool.putconn(connection)` 來歸還連線位置\n",
    "\n",
    "但是另一個問題產生：\n",
    "\n",
    "在 `load_from_db_by_email()` 最後會 `return` 回傳物件，無法直接歸還連線\n",
    "\n",
    "故我們還是希望能使用 `with ConnectionPool() as connection:` 的語法\n",
    "\n",
    "將 `return` 包在其下層的 `cursor`，最後關閉 `connection` 時可以歸還連線"
   ]
  },
  {
   "cell_type": "markdown",
   "metadata": {},
   "source": [
    "因此我們會在 database.py 當中建立一個 `ConnectionPool` 類別來定義 `with` 對應的操作："
   ]
  },
  {
   "cell_type": "code",
   "execution_count": null,
   "metadata": {},
   "outputs": [],
   "source": [
    "from psycopg2 import pool\n",
    "\n",
    "class ConnectionPool:\n",
    "    \n",
    "    def __init__(self):\n",
    "        connection_pool = pool.SimpleConnectionPool(1, 10,\\\n",
    "                                            user='postgres', password='1234',\\\n",
    "                                            database ='learning', host='localhost')\n",
    "\n",
    "    def __enter__(self):\n",
    "        return self.connection_pool.get_conn()\n",
    "\n",
    "    def __exit__(self, exception_type, exception_value, exception_traceback):\n",
    "        pass"
   ]
  },
  {
   "cell_type": "markdown",
   "metadata": {},
   "source": [
    "如果是 `with` 呼叫函式，會執行 `__init__` 之後接續執行 `__enter__`\n",
    "\n",
    "不過這樣還沒有寫到歸還連線的機制，而且每次存取 `ConnectionPool` 都會創造一個新連線池\n",
    "\n",
    "造成每次動作都會創造新的連線池出來，問題更為嚴重"
   ]
  },
  {
   "cell_type": "markdown",
   "metadata": {},
   "source": [
    "正確的寫法："
   ]
  },
  {
   "cell_type": "code",
   "execution_count": null,
   "metadata": {},
   "outputs": [],
   "source": [
    "from psycopg2 import pool\n",
    "\n",
    "connection_pool = pool.SimpleConnectionPool(1, 10,\\\n",
    "                                            user='postgres', password='1234',\\\n",
    "                                            database ='learning', host='localhost')\n",
    "\n",
    "class ConnectionFromPool:\n",
    "    \n",
    "    def __init__(self):\n",
    "        self.connection = None\n",
    "        \n",
    "    def __enter__(self):\n",
    "        self.connection = connection_pool.getconn()\n",
    "        return self.connection\n",
    "\n",
    "    def __exit__(self, exception_type, exception_value, exception_traceback):\n",
    "        self.connection.commit()\n",
    "        connection_pool.putconn(self.connection)"
   ]
  },
  {
   "cell_type": "markdown",
   "metadata": {},
   "source": [
    "( 將 `ConnectionPool` 改名為 `ConnectionFromPool` )\n",
    "\n",
    "如此，匯入 database.py 時就會創建 連線池\n",
    "\n",
    "且在需要執行動作時，會再建立 連線 而非 連線池，最後也會歸還 連線 到連線池裡\n",
    "\n",
    "注意要加入 `self.connection.commit()` ，因為函式是我們自定義的"
   ]
  },
  {
   "cell_type": "markdown",
   "metadata": {},
   "source": [
    "# 2-2　Connection Pool - 優化"
   ]
  },
  {
   "cell_type": "markdown",
   "metadata": {},
   "source": [
    "現在 user.py 裡的函式成為："
   ]
  },
  {
   "cell_type": "code",
   "execution_count": null,
   "metadata": {},
   "outputs": [],
   "source": [
    "    def save_to_db(self):\n",
    "        with ConnectionFromPool() as connection:\n",
    "            with connection.cursor() as cursor:"
   ]
  },
  {
   "cell_type": "markdown",
   "metadata": {},
   "source": [
    "在 `load_from_db_by_email` 函式也可發現此重複的巢狀 `with` 結構\n",
    "\n",
    "故我們可以把 `cursor` 的操作也併入，進一步改成 `CursorFromConnectionFromPool` 函式："
   ]
  },
  {
   "cell_type": "code",
   "execution_count": null,
   "metadata": {},
   "outputs": [],
   "source": [
    "class CursorFromConnectionFromPool:\n",
    "\n",
    "    def __init__(self):\n",
    "        self.connection = None\n",
    "        self.cursor = None\n",
    "\n",
    "    def __enter__(self):\n",
    "        self.connection = Database.get_conn()\n",
    "        self.cursor = self.connection.cursor()\n",
    "        return self.cursor\n",
    "\n",
    "    def __exit__(self, exception_type, exception_value, exception_traceback):\n",
    "        self.cursor.close()\n",
    "        self.connection.commit()\n",
    "        connection_pool.putconn(self.connection)"
   ]
  },
  {
   "cell_type": "markdown",
   "metadata": {},
   "source": [
    "如此在 user.py 當中的函式就可以簡化為："
   ]
  },
  {
   "cell_type": "code",
   "execution_count": null,
   "metadata": {},
   "outputs": [],
   "source": [
    "    def save_to_db(self):\n",
    "        with CursorFromConnectionFromPool() as cursor:\n",
    "            cursor.execute('...')"
   ]
  },
  {
   "cell_type": "markdown",
   "metadata": {},
   "source": [
    "另外，每次存取 database.py 時都會立刻開啟一個連線池，會造成隱性資源效率問題\n",
    "\n",
    "我們希望改成 有需要時 在開啟連線池，故可新增一個 `Database` 類別處理："
   ]
  },
  {
   "cell_type": "code",
   "execution_count": null,
   "metadata": {},
   "outputs": [],
   "source": [
    "class Database:\n",
    "    __connection_pool = None\n",
    "\n",
    "    @classmethod\n",
    "    def initialize(cls, **kwargs):\n",
    "        cls.__connection_pool = pool.SimpleConnectionPool(1, 10, **kwargs)   "
   ]
  },
  {
   "cell_type": "markdown",
   "metadata": {},
   "source": [
    "`__connection_pool` 在前面加兩底線的意思是 隱藏參數 (private)\n",
    "\n",
    "因為目前所有的連線都會屬於同一個資料庫，且只會有一個連線池，故使用 `classmethod`\n",
    "\n",
    "若使用一般函式及 `self` 參數，每個不同的連線物件都會創造自己的連線池出來\n",
    "\n",
    "在某些支援自動完成的程式編輯器當中，不會被提示出來，以避免意外的修改\n",
    "\n",
    "如此在主程式 app.py 中指定參數才會建立連線池"
   ]
  },
  {
   "cell_type": "code",
   "execution_count": null,
   "metadata": {},
   "outputs": [],
   "source": [
    "Database.initialize(database=\"Learning\", host=\"localhost\",\\\n",
    "                    user=\"postgres\", password=\"1234\")"
   ]
  },
  {
   "cell_type": "markdown",
   "metadata": {},
   "source": [
    "我們也可以把連線相關方法放進 `Database` 類別當中集中管理："
   ]
  },
  {
   "cell_type": "code",
   "execution_count": null,
   "metadata": {},
   "outputs": [],
   "source": [
    "    @classmethod\n",
    "    def get_conn(cls):\n",
    "        return cls.__connection_pool.getconn()\n",
    "\n",
    "    @classmethod\n",
    "    def return_conn(cls, connection):\n",
    "        return cls.__connection_pool.putconn(connection)\n",
    "\n",
    "    @classmethod\n",
    "    def close_all_conn(cls):\n",
    "        return cls.__connection_pool.closeall()"
   ]
  },
  {
   "cell_type": "markdown",
   "metadata": {},
   "source": [
    "# 2-3　錯誤處理"
   ]
  },
  {
   "cell_type": "markdown",
   "metadata": {},
   "source": [
    "當 `with` 處理的內容發生錯誤時，可以在 `__exit__` 中進行處理 (若不處理，程式會中止)"
   ]
  },
  {
   "cell_type": "code",
   "execution_count": null,
   "metadata": {},
   "outputs": [],
   "source": [
    "    def __exit__(self, exception_type, exception_value, exception_traceback):\n",
    "        if exception_value is not None:\n",
    "            self.connection.rollback()\n",
    "        else:\n",
    "            self.cursor.close()\n",
    "            self.connection.commit()\n",
    "        Database.return_conn(self.connection)"
   ]
  },
  {
   "cell_type": "markdown",
   "metadata": {},
   "source": [
    "- `exception_type` 錯誤的種類，例如：TypeError、AttributeError、ValueError\n",
    "- `exception_value` 錯誤碼\n",
    "- `exception_traceback` 錯誤說明文字\n",
    "\n",
    "`connection.rollback()` 會直接不存檔就把連線中止並放回連線池"
   ]
  }
 ],
 "metadata": {
  "kernelspec": {
   "display_name": "Python 3",
   "language": "python",
   "name": "python3"
  },
  "language_info": {
   "codemirror_mode": {
    "name": "ipython",
    "version": 3
   },
   "file_extension": ".py",
   "mimetype": "text/x-python",
   "name": "python",
   "nbconvert_exporter": "python",
   "pygments_lexer": "ipython3",
   "version": "3.6.4"
  }
 },
 "nbformat": 4,
 "nbformat_minor": 2
}
