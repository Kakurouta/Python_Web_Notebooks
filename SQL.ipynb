{
 "cells": [
  {
   "cell_type": "markdown",
   "metadata": {},
   "source": [
    "# 1　查詢語法"
   ]
  },
  {
   "cell_type": "markdown",
   "metadata": {},
   "source": [
    "- SELECT FROM"
   ]
  },
  {
   "cell_type": "code",
   "execution_count": null,
   "metadata": {},
   "outputs": [],
   "source": [
    "SELECT * FROM customers;\n",
    "\n",
    "SELECT customers.first_name, customer.last_name FROM customers;"
   ]
  },
  {
   "cell_type": "markdown",
   "metadata": {},
   "source": [
    "`SELECT *` 代表選擇全部"
   ]
  },
  {
   "cell_type": "markdown",
   "metadata": {},
   "source": [
    "- AS"
   ]
  },
  {
   "cell_type": "code",
   "execution_count": null,
   "metadata": {},
   "outputs": [],
   "source": [
    "SELECT customers.first_name AS \"First name\" FROM customers;"
   ]
  },
  {
   "cell_type": "markdown",
   "metadata": {},
   "source": [
    "使用 `AS` 宣告別名 (Alias) ，改變欄位或表單的顯示名稱\n",
    "\n",
    "此名稱為單純字串，使用雙引號 `\"`"
   ]
  },
  {
   "cell_type": "markdown",
   "metadata": {},
   "source": [
    "- WHERE"
   ]
  },
  {
   "cell_type": "code",
   "execution_count": null,
   "metadata": {},
   "outputs": [],
   "source": [
    "SELECT * FROM customers WHERE customers.name='Rolf';"
   ]
  },
  {
   "cell_type": "markdown",
   "metadata": {},
   "source": [
    "過濾結果，對象鍵值使用單引號 `'` (某些資料庫可接受雙引號但 PostgreSQL 不行)\n",
    "\n",
    "可以再加入 `OR` 或 `AND` 進一步限縮"
   ]
  },
  {
   "cell_type": "markdown",
   "metadata": {},
   "source": [
    "- LIMIT"
   ]
  },
  {
   "cell_type": "code",
   "execution_count": null,
   "metadata": {},
   "outputs": [],
   "source": [
    "SELECT * FROM customers LIMIT 5;"
   ]
  },
  {
   "cell_type": "markdown",
   "metadata": {},
   "source": [
    "限制結果的數量只顯示前 5 個"
   ]
  },
  {
   "cell_type": "markdown",
   "metadata": {},
   "source": [
    "- UPDATE"
   ]
  },
  {
   "cell_type": "code",
   "execution_count": null,
   "metadata": {},
   "outputs": [],
   "source": [
    "UPDATE items SET price=50 WHERE id=3;"
   ]
  },
  {
   "cell_type": "markdown",
   "metadata": {},
   "source": [
    "將 `items` 表單中 `id` 為 3 的商品之價格更新為 50\n",
    "\n",
    "注意：若不用 `WHERE` 限縮範圍，表單中的所有商品價格都會被設成 50"
   ]
  },
  {
   "cell_type": "markdown",
   "metadata": {},
   "source": [
    "- DELETE FROM"
   ]
  },
  {
   "cell_type": "code",
   "execution_count": null,
   "metadata": {},
   "outputs": [],
   "source": [
    "DELETE FROM items WHERE id=2;"
   ]
  },
  {
   "cell_type": "markdown",
   "metadata": {},
   "source": [
    "PostgreSQL 會檢查項目是否有被其他表單參考，若被參考則無法刪除，必須先刪除參考源"
   ]
  },
  {
   "cell_type": "markdown",
   "metadata": {},
   "source": [
    "- LIKE"
   ]
  },
  {
   "cell_type": "code",
   "execution_count": null,
   "metadata": {},
   "outputs": [],
   "source": [
    "SELECT * FROM customers WHERE last_name LIKE '%o__';"
   ]
  },
  {
   "cell_type": "markdown",
   "metadata": {},
   "source": [
    "利用 `LIKE` 及外卡字元進行鍵值過濾：`%` 代表一個或以上的字元， `_` 代表一個字元\n",
    "\n",
    "故 `%o__` 可以包含 Starlord、moon，但不包含 Python"
   ]
  },
  {
   "cell_type": "markdown",
   "metadata": {},
   "source": [
    "- INDEX"
   ]
  },
  {
   "cell_type": "markdown",
   "metadata": {},
   "source": [
    "一般而言使用鍵值進行搜尋，但在龐大資料庫系統中會花較多時間\n",
    "\n",
    "可以預先建立好索引值 (index) 來加速未來的搜尋 (通常是基於二元樹演算法)\n",
    "\n",
    "當然這會花掉額外資源，新增資料時也會變得較耗時"
   ]
  },
  {
   "cell_type": "code",
   "execution_count": null,
   "metadata": {},
   "outputs": [],
   "source": [
    "CREATE INDEX user_name_index ON customers(name);"
   ]
  },
  {
   "cell_type": "markdown",
   "metadata": {},
   "source": [
    "`user_name_index` 可以任意命名\n",
    "\n",
    "如此 PostgreSQL 會依據表單 customers 中的 name 欄位進行索引值建立\n",
    "\n",
    "必要時亦可同時針對多個欄位建立索引值，以利未來的多欄位同時搜尋\n"
   ]
  },
  {
   "cell_type": "code",
   "execution_count": null,
   "metadata": {},
   "outputs": [],
   "source": [
    "REINDEX INDEX user_name_index;"
   ]
  },
  {
   "cell_type": "markdown",
   "metadata": {},
   "source": [
    "重新建立索引值，來清除遇到的索引值錯誤"
   ]
  },
  {
   "cell_type": "markdown",
   "metadata": {},
   "source": [
    "***"
   ]
  },
  {
   "cell_type": "markdown",
   "metadata": {},
   "source": [
    "# 2-1　表單語法 - JOIN"
   ]
  },
  {
   "cell_type": "markdown",
   "metadata": {},
   "source": [
    "- INNER JOIN ON"
   ]
  },
  {
   "cell_type": "code",
   "execution_count": null,
   "metadata": {},
   "outputs": [],
   "source": [
    "SELECT * FROM customers INNER JOIN orders ON customers.ID=Orders.customer_ID"
   ]
  },
  {
   "cell_type": "markdown",
   "metadata": {},
   "source": [
    "根據指定鍵值取兩個表單的__交集__，形成新的表單\n",
    "\n",
    "新的表單會有 `customers.ID`、`orders.ID`、`orders.customer_ID` 三個編號欄位\n",
    "\n",
    "三個欄位都有對應值的項目才會被列出"
   ]
  },
  {
   "cell_type": "markdown",
   "metadata": {},
   "source": [
    "- LEFT JOIN ON"
   ]
  },
  {
   "cell_type": "code",
   "execution_count": null,
   "metadata": {},
   "outputs": [],
   "source": [
    "SELECT * FROM customers LEFT JOIN orders ON customers.ID=Orders.customer_ID"
   ]
  },
  {
   "cell_type": "markdown",
   "metadata": {},
   "source": [
    "以__左邊表單__(`customers`)為主，依照 `customers.ID` 列出，並優先列出交集\n",
    "\n",
    "若無對應 `orders.ID`、`orders.customer_ID` 則該處內容留白"
   ]
  },
  {
   "cell_type": "markdown",
   "metadata": {},
   "source": [
    "- RIGHT JOIN ON\n"
   ]
  },
  {
   "cell_type": "code",
   "execution_count": null,
   "metadata": {},
   "outputs": [],
   "source": [
    "SELECT * FROM customers RIGHT JOIN orders ON customers.ID=Orders.customer_ID"
   ]
  },
  {
   "cell_type": "markdown",
   "metadata": {},
   "source": [
    "以__右邊表單__(`orders`)為主，依照 `orders.ID` 列出，並優先列出交集\n",
    "\n",
    "若無對應 `customers.ID`、`orders.customer_ID` 則該處內容留白"
   ]
  },
  {
   "cell_type": "markdown",
   "metadata": {},
   "source": [
    "- FULL JOIN ON"
   ]
  },
  {
   "cell_type": "code",
   "execution_count": null,
   "metadata": {},
   "outputs": [],
   "source": [
    "SELECT * FROM customers FULL JOIN orders ON customers.ID=Orders.customer_ID"
   ]
  },
  {
   "cell_type": "markdown",
   "metadata": {},
   "source": [
    "根據指定鍵值取兩個表單的__聯集__，形成新的表單"
   ]
  },
  {
   "cell_type": "markdown",
   "metadata": {},
   "source": [
    "- 多重加入"
   ]
  },
  {
   "cell_type": "code",
   "execution_count": null,
   "metadata": {},
   "outputs": [],
   "source": [
    "SELECT * FROM items \n",
    "INNER JOIN purchases ON items.id = purchases.item_id\n",
    "INNER JOIN customers ON purchases.customer_id = customers.id;"
   ]
  },
  {
   "cell_type": "markdown",
   "metadata": {},
   "source": [
    "- GROUP BY"
   ]
  },
  {
   "cell_type": "code",
   "execution_count": null,
   "metadata": {},
   "outputs": [],
   "source": [
    "SELECT customers.first_name, COUNT(purchases.id) FROM customers \n",
    "LEFT JOIN purchases ON customers.id = purchases.customer_id\n",
    "GROUP BY customers.id;"
   ]
  },
  {
   "cell_type": "markdown",
   "metadata": {},
   "source": [
    "把 `customer.id` 相同的項目合併起來\n",
    "\n",
    "再用 `COUNT` 函式 來計算有幾項 相同 `customer.id` 、不同 `purchases.id` 的項目\n",
    "被合併了 \n",
    "\n",
    "被合併的項目，若原先有不同資料則會消失，但可以存取這些資料的統計值如  \n",
    "`COUNT()`、`SUM()`、 `AVG()`、`MAX()`\n"
   ]
  },
  {
   "cell_type": "markdown",
   "metadata": {},
   "source": [
    "- ORDER BY"
   ]
  },
  {
   "cell_type": "code",
   "execution_count": null,
   "metadata": {},
   "outputs": [],
   "source": [
    "SELECT items.name, items.price FROM items ORDER BY items.price DESC;"
   ]
  },
  {
   "cell_type": "markdown",
   "metadata": {},
   "source": [
    "`DESC` 降序排列、`ASC` 升序排列"
   ]
  },
  {
   "cell_type": "markdown",
   "metadata": {},
   "source": [
    "- HAVING"
   ]
  },
  {
   "cell_type": "code",
   "execution_count": null,
   "metadata": {},
   "outputs": [],
   "source": [
    "SELECT customers.first_name, COUNT(purchases.id)\n",
    "FROM customers \n",
    "INNER JOIN purchases ON customers.id = purchases.customer_id\n",
    "GROUP BY customers.id\n",
    "HAVING COUNT(purchases.id) > 3;"
   ]
  },
  {
   "cell_type": "markdown",
   "metadata": {},
   "source": [
    "如果我們需要「項目數量超過 3」之類的條件\n",
    "\n",
    "因為統計值並不直接是表單內的資料，並不能使用 `WHERE` 來查詢，必須使用 `HAVING`"
   ]
  },
  {
   "cell_type": "markdown",
   "metadata": {},
   "source": [
    "# 2-2　表單語法 - 新增刪除"
   ]
  },
  {
   "cell_type": "markdown",
   "metadata": {},
   "source": [
    "- CREATE"
   ]
  },
  {
   "cell_type": "code",
   "execution_count": null,
   "metadata": {},
   "outputs": [],
   "source": [
    "CREATE TABLE public.users (\n",
    "id integer PRIMARY KEY,\n",
    "name character varying(255) NOT NULL\n",
    ")"
   ]
  },
  {
   "cell_type": "markdown",
   "metadata": {},
   "source": [
    "建立名為 `users` 的表單， `public.` 是預設 schema，可以省略\n",
    "\n",
    "很大量的數字可以使用 `bigint`\n",
    "\n",
    "`character varing(255) NOT NULL` 表示為最長 255 字元的資料，且不得為空\n",
    "\n",
    "若不想限制長度就使用 `text`\n",
    "\n",
    "也可以不直接在 id 後面指定主鍵，改為這樣寫："
   ]
  },
  {
   "cell_type": "code",
   "execution_count": null,
   "metadata": {},
   "outputs": [],
   "source": [
    "CREATE TABLE public.users (\n",
    "id integer,\n",
    "name character varying(255) NOT NULL,\n",
    "CONSTRAINT user_id_pkey PRIMARY KEY(id)\n",
    ")"
   ]
  },
  {
   "cell_type": "markdown",
   "metadata": {},
   "source": [
    "如此做的原因是可以指定很多個主鍵，`user_id_pkey` 可以是任意的命名"
   ]
  },
  {
   "cell_type": "code",
   "execution_count": null,
   "metadata": {},
   "outputs": [],
   "source": [
    "CREATE TABLE public.videos (\n",
    "id integer PRIMARY KEY,\n",
    "user_id integer REFERENCES public.users,\n",
    "name character varying(255) NOT NULL\n",
    ")"
   ]
  },
  {
   "cell_type": "markdown",
   "metadata": {},
   "source": [
    "`REFERENCES` 指定外鍵及其參考的表單"
   ]
  },
  {
   "cell_type": "markdown",
   "metadata": {},
   "source": [
    "- INSERT INTO"
   ]
  },
  {
   "cell_type": "code",
   "execution_count": null,
   "metadata": {},
   "outputs": [],
   "source": [
    "INSERT INTO public.users (id, name) VALUES (2, 'Mary');"
   ]
  },
  {
   "cell_type": "markdown",
   "metadata": {},
   "source": [
    "若輸入的資料完全對應表單各欄位，則 `(id, name)` 可以省略\n",
    "\n",
    "但若只對應某些欄位，則需要指定資料是填入哪些欄位"
   ]
  },
  {
   "cell_type": "code",
   "execution_count": null,
   "metadata": {},
   "outputs": [],
   "source": [
    "INSERT INTO public.videos VALUES (2, 999, 'New video');"
   ]
  },
  {
   "cell_type": "markdown",
   "metadata": {},
   "source": [
    "若沒有第 999 位使用者，因外鍵無法參考，則無法插入"
   ]
  },
  {
   "cell_type": "markdown",
   "metadata": {},
   "source": [
    "- DROP"
   ]
  },
  {
   "cell_type": "code",
   "execution_count": null,
   "metadata": {},
   "outputs": [],
   "source": [
    "DROP TABLE public.users RESTRICT;"
   ]
  },
  {
   "cell_type": "markdown",
   "metadata": {},
   "source": [
    "刪除表單，`RESTRICT` 為預設，可省略，會檢查表單間的關係\n",
    "\n",
    "由於此時表單 `videos` 參考到 `users`，故無法進行刪除"
   ]
  },
  {
   "cell_type": "code",
   "execution_count": null,
   "metadata": {},
   "outputs": [],
   "source": [
    "DROP TABLE public.users CASCADE;"
   ]
  },
  {
   "cell_type": "markdown",
   "metadata": {},
   "source": [
    "使用 `CASCADE` 即可刪除表單 `users`\n",
    "\n",
    "如此會刪除表單 `videos` 的參考關係，但不會刪除其資料"
   ]
  },
  {
   "cell_type": "markdown",
   "metadata": {},
   "source": [
    "- IF EXISTS"
   ]
  },
  {
   "cell_type": "code",
   "execution_count": null,
   "metadata": {},
   "outputs": [],
   "source": [
    "DROP TABLE IF EXISTS public.users;"
   ]
  },
  {
   "cell_type": "markdown",
   "metadata": {},
   "source": [
    "不確定是否存在時，可使用 `IF EXISTS` 條件式"
   ]
  },
  {
   "cell_type": "markdown",
   "metadata": {},
   "source": [
    "# 2-3　表單語法 - 序列"
   ]
  },
  {
   "cell_type": "markdown",
   "metadata": {},
   "source": [
    "- SEQUENCE (PostgreSQL Only)"
   ]
  },
  {
   "cell_type": "code",
   "execution_count": null,
   "metadata": {},
   "outputs": [],
   "source": [
    "CREATE SEQUENCE users_id_seq START 3;"
   ]
  },
  {
   "cell_type": "markdown",
   "metadata": {},
   "source": [
    "如此會產生從 3 開始的序列，若不指定則預設從 1 開始"
   ]
  },
  {
   "cell_type": "markdown",
   "metadata": {},
   "source": [
    "- ALTER"
   ]
  },
  {
   "cell_type": "code",
   "execution_count": null,
   "metadata": {},
   "outputs": [],
   "source": [
    "ALTER TABLE public.users\n",
    "ALTER COLUMN id\n",
    "SET DEFAULT nextval('users_id_seq');"
   ]
  },
  {
   "cell_type": "markdown",
   "metadata": {},
   "source": [
    "將表單 `users` 的 `id` 欄位預設值改為 `users_id_seq` 的下一個值"
   ]
  },
  {
   "cell_type": "markdown",
   "metadata": {},
   "source": [
    "- OWNED BY"
   ]
  },
  {
   "cell_type": "code",
   "execution_count": null,
   "metadata": {},
   "outputs": [],
   "source": [
    "ALTER SEQUENCE 'users_id_seq' OWNED BY public.users.id;"
   ]
  },
  {
   "cell_type": "markdown",
   "metadata": {},
   "source": [
    "當刪除表單 `users` 時，其所擁有的序列 `users_id_seq` 也會一併被刪除"
   ]
  },
  {
   "cell_type": "markdown",
   "metadata": {},
   "source": [
    "- SERIAL"
   ]
  },
  {
   "cell_type": "code",
   "execution_count": null,
   "metadata": {},
   "outputs": [],
   "source": [
    "CREATE TABLE test (\n",
    "id SERIAL PRIMARY KEY,\n",
    "name text\n",
    ");\n",
    "\n",
    "INSERT INTO test(name) VALUES ('John');"
   ]
  },
  {
   "cell_type": "markdown",
   "metadata": {},
   "source": [
    "`SERIAL` 背後亦是基於 `SEQUENCE` 建立的，使用上較為方便"
   ]
  },
  {
   "cell_type": "markdown",
   "metadata": {},
   "source": [
    "***"
   ]
  },
  {
   "cell_type": "markdown",
   "metadata": {},
   "source": [
    "# 3　VIEW"
   ]
  },
  {
   "cell_type": "code",
   "execution_count": null,
   "metadata": {},
   "outputs": [],
   "source": [
    "CREATE VIEW total_revenue_per_customer AS\n",
    "\n",
    "SELECT customers.first_name, SUM(items.price) FROM customers \n",
    "INNER JOIN purchases ON customers.id = purchases.customer_id\n",
    "INNER JOIN items ON purchases.item_id = items.id\n",
    "GROUP BY customers.id;"
   ]
  },
  {
   "cell_type": "markdown",
   "metadata": {},
   "source": [
    "以 `VIEW` 建立一個特定的結果表單，可以免去每次輸入一長串的指令\n",
    "\n",
    "之後再如一般表單的查詢方式："
   ]
  },
  {
   "cell_type": "code",
   "execution_count": null,
   "metadata": {},
   "outputs": [],
   "source": [
    "SELECT * FROM total_revenue_per_customer"
   ]
  },
  {
   "cell_type": "markdown",
   "metadata": {},
   "source": [
    "若 `items.price` 更新，重新查詢一次 `total_revenue_per_customer` 結果也會跟著更新\n",
    "\n",
    "亦即 `VIEW` 是 updatable，可以想像成是一個自定義查詢函數"
   ]
  },
  {
   "cell_type": "code",
   "execution_count": null,
   "metadata": {},
   "outputs": [],
   "source": [
    "CREATE VIEW expensive_item AS\n",
    "SELECT * FROM items WHERE price > 100;\n",
    "\n",
    "INSERT INTO expensive_items (id, name, price)\n",
    "VALUES (9, 'Pencil', 15);"
   ]
  },
  {
   "cell_type": "markdown",
   "metadata": {},
   "source": [
    "可以如一般表單插入資料，但要注意：\n",
    "\n",
    "- GROUP BY 處理過的表單可能無法插入已融合的欄位項目\n",
    "\n",
    "- 上述 Pencil 縱使價格小於 100，仍會成功加入 items 表單當中，只是在 VIEW 中因過濾看不到 "
   ]
  },
  {
   "cell_type": "code",
   "execution_count": null,
   "metadata": {},
   "outputs": [],
   "source": [
    "INSERT INTO expensive_items (id, name, price)\n",
    "VALUES (9, 'Pencil', 15)\n",
    "WITH LOCAL CHECK OPTION;"
   ]
  },
  {
   "cell_type": "markdown",
   "metadata": {},
   "source": [
    "若加入 `WITH LOCAL CHECK OPTION` (PostgreSQL Only)\n",
    "\n",
    "則系統會不允許價格小於 100 的鉛筆資料插入"
   ]
  },
  {
   "cell_type": "code",
   "execution_count": null,
   "metadata": {},
   "outputs": [],
   "source": [
    "CREATE VIEW non_luxury_items AS\n",
    "SELECT * FROM expensive_items WHERE price < 1000\n",
    "WITH LOCAL CHECK OPTION;"
   ]
  },
  {
   "cell_type": "markdown",
   "metadata": {},
   "source": [
    "可以從 VIEW 再建立另一個 VIEW"
   ]
  },
  {
   "cell_type": "code",
   "execution_count": null,
   "metadata": {},
   "outputs": [],
   "source": [
    "INSERT INTO non_luxury_items (id, name, price)\n",
    "VALUES (9, 'Pencil', 15)\n",
    "WITH LOCAL CHECK OPTION;"
   ]
  },
  {
   "cell_type": "markdown",
   "metadata": {},
   "source": [
    "縱使 `non_luxury_items` 是基於 `expensive_items` 建立的\n",
    "\n",
    "但因為是 `LOCAL CHECK OPTION`，鉛筆的價格 15 滿足 `non_luxury_items` 小於 1000 的條件\n",
    "\n",
    "故鉛筆可成功插入 `items` 表單"
   ]
  },
  {
   "cell_type": "markdown",
   "metadata": {},
   "source": [
    "如果也想檢查 `expensive_items` 的條件，則需要改成 `WITH CASCADED CHECK OPTION` "
   ]
  },
  {
   "cell_type": "code",
   "execution_count": null,
   "metadata": {},
   "outputs": [],
   "source": [
    "DROP VIEW expensive_items;"
   ]
  },
  {
   "cell_type": "markdown",
   "metadata": {},
   "source": [
    "刪除 VIEW 的方法與一般表單相同"
   ]
  },
  {
   "cell_type": "markdown",
   "metadata": {},
   "source": [
    "***"
   ]
  },
  {
   "cell_type": "markdown",
   "metadata": {},
   "source": [
    "# 4　時間與 Enum"
   ]
  },
  {
   "cell_type": "markdown",
   "metadata": {},
   "source": [
    "- 時間"
   ]
  },
  {
   "cell_type": "code",
   "execution_count": null,
   "metadata": {},
   "outputs": [],
   "source": [
    "SELECT NOW();"
   ]
  },
  {
   "cell_type": "markdown",
   "metadata": {},
   "source": [
    "會回傳 ISO 8601 格式 `YYYY-MM-DD HH-MI-SS` 的 時間戳記(timestamp)\n",
    "\n",
    "如 `2018-06-13 14:12:25.993795+08`\n",
    "\n",
    "代表現在台灣時間為 2018-06-13 下午 2 點 12 分 25 秒， `+08` 是指 UTC+8 時區"
   ]
  },
  {
   "cell_type": "code",
   "execution_count": null,
   "metadata": {},
   "outputs": [],
   "source": [
    "SELECT TO_CHAR(NOW(), 'Day DDth Month, DD-MM-YYYY');"
   ]
  },
  {
   "cell_type": "markdown",
   "metadata": {},
   "source": [
    "可以將時間戳記更改成其他格式，回傳成為如 `Sunday  3rd June    , 03-06-2018` 的格式\n",
    "\n",
    "若寫成 `FMDay`、 `FMMonth` 可以移除對齊用的空白\n"
   ]
  },
  {
   "cell_type": "code",
   "execution_count": null,
   "metadata": {},
   "outputs": [],
   "source": [
    "SELECT TO_TIMESTAMP('Sunday 3rd June, 2018 15:00:00',\n",
    "                    'FMDay DDth FMonth, YYYY HH:MI:SS')"
   ]
  },
  {
   "cell_type": "markdown",
   "metadata": {},
   "source": [
    "可以將其他格式的時間資料轉回標準格式"
   ]
  },
  {
   "cell_type": "markdown",
   "metadata": {},
   "source": [
    "- Enum"
   ]
  },
  {
   "cell_type": "code",
   "execution_count": null,
   "metadata": {},
   "outputs": [],
   "source": [
    "CREATE TYPE mood AS ENUM('happy', 'ok', 'sad');"
   ]
  },
  {
   "cell_type": "markdown",
   "metadata": {},
   "source": [
    "藉由 `ENUM` 來限制允許的資料內容"
   ]
  },
  {
   "cell_type": "code",
   "execution_count": null,
   "metadata": {},
   "outputs": [],
   "source": [
    "CREATE TABLE students (\n",
    "name character varing(255),\n",
    "current_mood mood\n",
    ");"
   ]
  },
  {
   "cell_type": "markdown",
   "metadata": {},
   "source": [
    "如此表單 `students` 當中會有一欄 `current_mood` 其資料格式為 `mood`\n",
    "\n",
    "且只允許輸入 `happy` 、 `ok` 、 `sad`\n",
    "\n",
    "要注意的是 ENUM 是有順序性的，上例中可以看成 happy = 0 、 ok = 1 、 sad = 2 "
   ]
  },
  {
   "cell_type": "code",
   "execution_count": null,
   "metadata": {},
   "outputs": [],
   "source": [
    "SELECT * FROM students WHERE current_mood < 'ok';"
   ]
  },
  {
   "cell_type": "markdown",
   "metadata": {},
   "source": [
    "會篩選出 `current_mood` 為 `happy` 的學生"
   ]
  },
  {
   "cell_type": "markdown",
   "metadata": {},
   "source": [
    "***"
   ]
  },
  {
   "cell_type": "markdown",
   "metadata": {},
   "source": [
    "# 5　整合應用 - 巢狀選擇"
   ]
  },
  {
   "cell_type": "markdown",
   "metadata": {},
   "source": [
    "考慮下面這個看起來很直覺的查詢："
   ]
  },
  {
   "cell_type": "code",
   "execution_count": null,
   "metadata": {},
   "outputs": [],
   "source": [
    "SELECT * FROM items WHERE price > AVG(price);"
   ]
  },
  {
   "cell_type": "markdown",
   "metadata": {},
   "source": [
    "但可惜的是這不是正確的語法\n",
    "\n",
    "而且 `HAVING` 必須搭配 `GROUP BY` 才能使用，也不是正確寫法\n",
    "\n",
    "這時必須使用巢狀選擇："
   ]
  },
  {
   "cell_type": "code",
   "execution_count": null,
   "metadata": {},
   "outputs": [],
   "source": [
    "SELECT * FROM items WHERE price > ( SELECT AVG(items.price) FROM items );"
   ]
  },
  {
   "cell_type": "markdown",
   "metadata": {},
   "source": [
    "另一個巢狀選擇例子："
   ]
  },
  {
   "cell_type": "code",
   "execution_count": null,
   "metadata": {},
   "outputs": [],
   "source": [
    "CREATE VIEW expensive_items_diff AS\n",
    "SELECT items.name, \n",
    "items.price - ( SELECT AVG(items.price) FROM items WHERE price > 100)\n",
    "FROM items WHERE price > 100;\n",
    "\n",
    "SELECT * FROM expensive_items_diff"
   ]
  },
  {
   "cell_type": "markdown",
   "metadata": {},
   "source": [
    "可以得到 價格超過 100 的高價商品 其價格 與 高價商品平均價格 的差距"
   ]
  }
 ],
 "metadata": {
  "kernelspec": {
   "display_name": "Python 3",
   "language": "python",
   "name": "python3"
  },
  "language_info": {
   "codemirror_mode": {
    "name": "ipython",
    "version": 3
   },
   "file_extension": ".py",
   "mimetype": "text/x-python",
   "name": "python",
   "nbconvert_exporter": "python",
   "pygments_lexer": "ipython3",
   "version": "3.6.4"
  }
 },
 "nbformat": 4,
 "nbformat_minor": 2
}
