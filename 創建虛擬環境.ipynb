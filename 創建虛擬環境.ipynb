{
 "cells": [
  {
   "cell_type": "code",
   "execution_count": null,
   "metadata": {},
   "outputs": [],
   "source": [
    "pip freeze"
   ]
  },
  {
   "cell_type": "markdown",
   "metadata": {},
   "source": [
    "查詢現有 Python 套件清單及其版本"
   ]
  },
  {
   "cell_type": "code",
   "execution_count": null,
   "metadata": {},
   "outputs": [],
   "source": [
    "pip install virtualenv"
   ]
  },
  {
   "cell_type": "markdown",
   "metadata": {},
   "source": [
    "安裝創建虛擬環境的必備套件 `virtualenv`"
   ]
  },
  {
   "cell_type": "code",
   "execution_count": null,
   "metadata": {},
   "outputs": [],
   "source": [
    "virtualenv venv -p \\\n",
    "C:\\Users\\lucaslin\\AppData\\Local\\Programs\\Python\\Python36-32\\python.exe"
   ]
  },
  {
   "cell_type": "markdown",
   "metadata": {},
   "source": [
    "基於現有的 Python 執行檔來創建該 Python 版本的虛擬環境\n",
    "\n",
    "並將此虛擬環境命名為 `venv`\n",
    "\n",
    "註：第一行最後面的 \\ 是 Python 換行符號"
   ]
  },
  {
   "cell_type": "code",
   "execution_count": null,
   "metadata": {},
   "outputs": [],
   "source": [
    "# linux/Mac \n",
    "\n",
    "source venv/bin/activate\n",
    "deactivate\n",
    "\n",
    "# Windows   \n",
    "\n",
    ".\\venv\\Scripts\\activate.bat\n",
    ".\\venv\\Scripts\\deactivate.bat"
   ]
  },
  {
   "cell_type": "markdown",
   "metadata": {},
   "source": [
    "啟動和關閉虛擬環境"
   ]
  },
  {
   "cell_type": "code",
   "execution_count": null,
   "metadata": {},
   "outputs": [],
   "source": [
    "pip install Flask\n",
    "pip install Flask-RESTful\n",
    "pip install Flask-JWT"
   ]
  },
  {
   "cell_type": "markdown",
   "metadata": {},
   "source": [
    "啟動虛擬環境後，指令列最前面會出現 `(venv)`\n",
    "\n",
    "再安裝需要的套件"
   ]
  }
 ],
 "metadata": {
  "kernelspec": {
   "display_name": "Python 3",
   "language": "python",
   "name": "python3"
  },
  "language_info": {
   "codemirror_mode": {
    "name": "ipython",
    "version": 3
   },
   "file_extension": ".py",
   "mimetype": "text/x-python",
   "name": "python",
   "nbconvert_exporter": "python",
   "pygments_lexer": "ipython3",
   "version": "3.6.4"
  }
 },
 "nbformat": 4,
 "nbformat_minor": 2
}
